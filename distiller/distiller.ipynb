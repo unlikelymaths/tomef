{
 "cells": [
  {
   "cell_type": "markdown",
   "metadata": {},
   "source": [
    "# Distiller\n",
    "<div style=\"position: absolute; right:0;top:0\"><a href=\"../evaluation.py.ipynb\" style=\"text-decoration: none\"> <font size=\"5\">↑</font></a></div>\n",
    "\n",
    "This module extracts topics from the previous data.\n",
    "\n",
    "--- \n",
    "\n",
    "#### [W Method](./w_method.py.ipynb)\n",
    "\n",
    "Largest entries in the W matrix form the topic.\n",
    "\n",
    "---\n",
    "\n",
    "For each topic the top `config.distiller['num_tokens']` tokens will be extracted.\n",
    "It is a list of named tuples `TopicEntry` defined in `distiller.common` where `idx` is the index in the vocabulary,\n",
    "`weight` is the assosiated weight and `token` is the token as a string."
   ]
  },
  {
   "cell_type": "code",
   "execution_count": null,
   "metadata": {},
   "outputs": [],
   "source": []
  }
 ],
 "metadata": {
  "kernelspec": {
   "display_name": "Python 3",
   "language": "python",
   "name": "python3"
  },
  "language_info": {
   "codemirror_mode": {
    "name": "ipython",
    "version": 3
   },
   "file_extension": ".py",
   "mimetype": "text/x-python",
   "name": "python",
   "nbconvert_exporter": "python",
   "pygments_lexer": "ipython3",
   "version": "3.6.5"
  }
 },
 "nbformat": 4,
 "nbformat_minor": 2
}
