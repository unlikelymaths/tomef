{
 "cells": [
  {
   "cell_type": "markdown",
   "metadata": {},
   "source": [
    "# W Method\n",
    "<div style=\"position: absolute; right:0;top:0\"><a href=\"./distiller.ipynb\" style=\"text-decoration: none\"> <font size=\"5\">←</font></a>\n",
    "<a href=\"../evaluation.py.ipynb\" style=\"text-decoration: none\"> <font size=\"5\">↑</font></a></div>\n",
    "\n",
    "`Description`\n",
    "\n",
    "---\n",
    "## Setup and Settings\n",
    "---"
   ]
  },
  {
   "cell_type": "code",
   "execution_count": null,
   "metadata": {},
   "outputs": [],
   "source": [
    "from __init__ import init_vars\n",
    "init_vars(vars(), ('info',{}))\n",
    "\n",
    "import numpy as np\n",
    "\n",
    "import data\n",
    "import config\n",
    "from base import nbprint\n",
    "from widgetbase import nbbox\n",
    "\n",
    "from distiller.widgets import w_mat_picker\n",
    "from distiller.common import TopicEntry\n",
    "from distiller.distiller_util import DistillerBase\n",
    "\n",
    "if RUN_SCRIPT: w_mat_picker(info)"
   ]
  },
  {
   "cell_type": "markdown",
   "metadata": {},
   "source": [
    "---\n",
    "## Show all\n",
    "---"
   ]
  },
  {
   "cell_type": "code",
   "execution_count": null,
   "metadata": {},
   "outputs": [],
   "source": [
    "class WMethod(DistillerBase):\n",
    "    def run(self, info):\n",
    "        num_tokens = config.distiller['num_tokens']\n",
    "        w_mat = data.load_w_mat(info)\n",
    "        vocab = data.load_vocab_list(info)\n",
    "        sorted_idcs = np.argsort(w_mat, axis=0)\n",
    "        topiclist = []\n",
    "        for col in range(w_mat.shape[1]):\n",
    "            topic = []\n",
    "            for idx in sorted_idcs[-num_tokens:,col][::-1]:\n",
    "                topic.append(TopicEntry(idx = int(idx), \n",
    "                                        weight = float(w_mat[idx, col]), \n",
    "                                        token = vocab[idx]))\n",
    "            topiclist.append(topic)\n",
    "        self.topic_token_version = info['token_version']\n",
    "        self.topiclist = topiclist"
   ]
  },
  {
   "cell_type": "code",
   "execution_count": null,
   "metadata": {},
   "outputs": [],
   "source": [
    "if RUN_SCRIPT:\n",
    "    nbbox(mini=True)\n",
    "    distiller_model = WMethod(info)\n",
    "    distiller_model.run_distiller(info)\n",
    "    for topic_idx, topic in enumerate(distiller_model.topiclist):\n",
    "        nbprint('**Topic {}**'.format(topic_idx))\n",
    "        nbprint('  \\n'.join([\"- `{}` ({})\".format(entry.token,entry.weight) for entry in topic[:10]]))"
   ]
  }
 ],
 "metadata": {
  "kernelspec": {
   "display_name": "Python 3",
   "language": "python",
   "name": "python3"
  },
  "language_info": {
   "codemirror_mode": {
    "name": "ipython",
    "version": 3
   },
   "file_extension": ".py",
   "mimetype": "text/x-python",
   "name": "python",
   "nbconvert_exporter": "python",
   "pygments_lexer": "ipython3",
   "version": "3.6.5"
  }
 },
 "nbformat": 4,
 "nbformat_minor": 2
}
