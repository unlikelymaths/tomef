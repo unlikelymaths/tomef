{
 "cells": [
  {
   "cell_type": "markdown",
   "metadata": {},
   "source": [
    "# Information Gain\n",
    "<div style=\"position: absolute; right:0;top:0\"><a href=\"./distiller.ipynb\" style=\"text-decoration: none\"> <font size=\"5\">←</font></a>\n",
    "<a href=\"../evaluation.py.ipynb\" style=\"text-decoration: none\"> <font size=\"5\">↑</font></a></div>\n",
    "\n",
    "`Description`\n",
    "\n",
    "---\n",
    "## Setup and Settings\n",
    "---"
   ]
  },
  {
   "cell_type": "code",
   "execution_count": null,
   "metadata": {},
   "outputs": [],
   "source": [
    "from __init__ import init_vars\n",
    "init_vars(vars(), ('info',{}))\n",
    "\n",
    "import numpy as np\n",
    "from sklearn.feature_selection import mutual_info_classif\n",
    "\n",
    "import data\n",
    "import config\n",
    "from base import nbprint\n",
    "from widgetbase import nbbox\n",
    "\n",
    "from distiller.widgets import h_mat_and_bow_picker\n",
    "from distiller.common import TopicEntry\n",
    "from distiller.distiller_util import DistillerBase\n",
    "\n",
    "if RUN_SCRIPT: h_mat_and_bow_picker(info)"
   ]
  },
  {
   "cell_type": "markdown",
   "metadata": {},
   "source": [
    "---\n",
    "## Mutual Information\n",
    "---"
   ]
  },
  {
   "cell_type": "code",
   "execution_count": null,
   "metadata": {},
   "outputs": [],
   "source": [
    "def load_c_vec(info):\n",
    "    if data.c_vec_exists(info):\n",
    "        return data.load_c_vec(info)\n",
    "    elif data.h_mat_exists(info):\n",
    "        h_mat = data.load_h_mat(info)\n",
    "        return np.argmax(h_mat, axis=0)\n",
    "    \n",
    "def load_mat_ids(info):\n",
    "    if config.split(info['vector_version'])[0] == 'P':\n",
    "        meta = data.load_document_meta(info)\n",
    "        return range(meta['num_documents'])\n",
    "    else:\n",
    "        return data.load_mat_ids(info)"
   ]
  },
  {
   "cell_type": "code",
   "execution_count": null,
   "metadata": {},
   "outputs": [],
   "source": [
    "class IGMutualInfo(DistillerBase):\n",
    "    def run(self, info):\n",
    "        c_vec = load_c_vec(info)\n",
    "        if c_vec is None:\n",
    "            return\n",
    "        second_info = info['second_info'] \n",
    "        num_tokens = config.distiller['num_tokens']\n",
    "        num_topics = info['num_topics']\n",
    "        vocab = data.load_vocab_list(second_info)\n",
    "        input_mat = data.load_input_mat(second_info)\n",
    "        c_vec_ids = load_mat_ids(info)\n",
    "        input_mat_ids = data.load_mat_ids(second_info)\n",
    "        \n",
    "        common_ids = [i for i in c_vec_ids if i in input_mat_ids]\n",
    "        filter_c_vec = [idx for idx, docid in enumerate(c_vec_ids) if docid in common_ids]\n",
    "        c_vec = c_vec[filter_c_vec]\n",
    "        filter_input_mat = [idx for idx, docid in enumerate(input_mat_ids) if docid in common_ids]\n",
    "        input_mat = input_mat[:, filter_input_mat]\n",
    "        \n",
    "        topiclist = []\n",
    "        for topic_idx in range(num_topics):\n",
    "            topic = []\n",
    "            target_vector = (c_vec == topic_idx).astype(int)\n",
    "            mi = mutual_info_classif(input_mat.transpose(), target_vector)\n",
    "            sorted_idcs = np.argsort(mi)\n",
    "            for idx in sorted_idcs[-num_tokens:][::-1]:\n",
    "                topic.append(TopicEntry(idx = int(idx), \n",
    "                                        weight = mi[idx], \n",
    "                                        token = vocab[idx]))\n",
    "            topiclist.append(topic)\n",
    "            \n",
    "        self.topic_token_version = second_info['token_version']\n",
    "        self.topiclist = topiclist"
   ]
  },
  {
   "cell_type": "code",
   "execution_count": null,
   "metadata": {},
   "outputs": [],
   "source": [
    "if RUN_SCRIPT:\n",
    "    nbbox(mini=True)\n",
    "    distiller_model = IGMutualInfo(info)\n",
    "    distiller_model.run_distiller(info)\n",
    "    for topic_idx, topic in enumerate(distiller_model.topiclist):\n",
    "        nbprint('**Topic {}**'.format(topic_idx))\n",
    "        nbprint('  \\n'.join([\"- `{}` ({})\".format(entry.token,entry.weight) for entry in topic[:10]]))"
   ]
  }
 ],
 "metadata": {
  "kernelspec": {
   "display_name": "Python 3",
   "language": "python",
   "name": "python3"
  },
  "language_info": {
   "codemirror_mode": {
    "name": "ipython",
    "version": 3
   },
   "file_extension": ".py",
   "mimetype": "text/x-python",
   "name": "python",
   "nbconvert_exporter": "python",
   "pygments_lexer": "ipython3",
   "version": "3.6.5"
  }
 },
 "nbformat": 4,
 "nbformat_minor": 2
}
