{
 "cells": [
  {
   "cell_type": "markdown",
   "metadata": {},
   "source": [
    "# Vectorizer\n",
    "<div style=\"position: absolute; right:0;top:0\"><a href=\"../evaluation.py.ipynb\" style=\"text-decoration: none\"> <font size=\"5\">↑</font></a></div>\n",
    "\n",
    "This module creates a vector representation for each document.\n",
    "\n",
    "--- \n",
    "\n",
    "#### [Vectorizer App](./vectorizer.app.ipynb)\n",
    "\n",
    "Run vectorizer for specific settings.\n",
    "\n",
    "#### [Vectorize BoW](./vectorize_bow.ipynb)\n",
    "\n",
    "Function for creating BoW vectors from tokens.\n",
    "\n",
    "#### [Vectorize cBoW](./vectorize_cbow.ipynb)\n",
    "\n",
    "Function for creating cBoW vectors from tokens.\n",
    "\n",
    "#### [Vectorize Phrase](./vectorize_phrase.ipynb)\n",
    "\n",
    "Function for creating Phrase vectors from text.\n",
    "\n",
    "---\n",
    "\n",
    "`Detail`"
   ]
  },
  {
   "cell_type": "code",
   "execution_count": null,
   "metadata": {},
   "outputs": [],
   "source": []
  }
 ],
 "metadata": {
  "kernelspec": {
   "display_name": "Python 3",
   "language": "python",
   "name": "python3"
  },
  "language_info": {
   "codemirror_mode": {
    "name": "ipython",
    "version": 3
   },
   "file_extension": ".py",
   "mimetype": "text/x-python",
   "name": "python",
   "nbconvert_exporter": "python",
   "pygments_lexer": "ipython3",
   "version": "3.6.5"
  }
 },
 "nbformat": 4,
 "nbformat_minor": 2
}
