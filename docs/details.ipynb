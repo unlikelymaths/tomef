{
 "cells": [
  {
   "cell_type": "markdown",
   "metadata": {},
   "source": [
    "# Details\n",
    "<div style=\"position: absolute; right:0;top:0\"><a href=\"../evaluation.py.ipynb\" style=\"text-decoration: none\"> <font size=\"5\">↑</font></a></div>\n",
    "\n",
    "## Initialize\n",
    "\n",
    "`nbbox` is needed for displaying output in the Notebook whereas in the terminal output will go to std out.  \n",
    "Trick: Ipython magic will result in a `NameError` when executing in normal python."
   ]
  }
 ],
 "metadata": {
  "kernelspec": {
   "display_name": "Markdown",
   "language": "markdown",
   "name": "markdown"
  },
  "language_info": {
   "codemirror_mode": "markdown",
   "file_extension": ".md",
   "mimetype": "text/markdown",
   "name": "Markdown",
   "pygments_lexer": "markdown"
  }
 },
 "nbformat": 4,
 "nbformat_minor": 2
}
