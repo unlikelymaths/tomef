{
 "cells": [
  {
   "cell_type": "markdown",
   "metadata": {},
   "source": [
    "# Configuration\n",
    "<div style=\"position: absolute; right:0;top:0\"><a href=\"../evaluation.py.ipynb\" style=\"text-decoration: none\"> <font size=\"5\">↑</font></a></div>\n",
    "\n",
    "The configuration file (`config.json`) is central for controlling the evaluation. It stores the paths that should be used by the framework and some general settings.\n",
    "Most importantly all datasets, embedding models and so on are defined as entries in this file.\n",
    "For details on how to define those entries see the documentation in the respective modules.\n",
    "\n",
    "To use the configuration include `import config`\n",
    "in your file. This will load the default configuration from the root folder of the framework.\n",
    "You may load another file with `load_config('path/to/my_config_file.json')` at the start of your program.\n",
    "\n",
    "All top level fields are global in the config module and can be directly accessed (e.g. `config.datasets`).\n",
    "They are listed below.\n",
    "JSON object are accessible as python dicts, e.g. via `config.datasets['mydataset']`.\n",
    "JSON arrays become python lists. They can be nested, e.g. `config.tokenizer['B'][2]`.\n",
    "\n",
    "Most fields have a `run` property. Use this to include/exclude them from the evaluation.\n",
    "\n",
    "## Fields\n",
    "\n",
    "### General\n",
    "\n",
    "- **skip_existing**  \n",
    "This setting controls if modules should rerun even though the result already exists.\n",
    "Set to false if you made changes to a module. Alternatively delete the files.\n",
    "This does not apply to requirements, they are always skipped when the result exists.\n",
    "- **graceful_errors**  \n",
    "For certain errors, e.g. a missing dataset, the framework will print an output with some information. \n",
    "If graceful_errors is true it will continue to run and skip everything that is missing,\n",
    "otherwise it will stop the execution.\n",
    "- **paths**  \n",
    "Paths can be specified as absolute paths or relative paths with respect to the root directory of the framework.\n",
    "All relative paths must end with `_rel` and will be converted to absolute paths on loading the config file.\n",
    "They can be accessed without the `_rel` suffix.\n",
    "- **plots**  \n",
    "General settings for plotting\n",
    "\n",
    "### Modules\n",
    "- datasets\n",
    "- embeddings\n",
    "- importer\n",
    "- tokenizer\n",
    "- vocab\n",
    "- vectorizer\n",
    "- models\n",
    "- distiller\n",
    "- metrics"
   ]
  }
 ],
 "metadata": {
  "kernelspec": {
   "display_name": "Markdown",
   "language": "markdown",
   "name": "markdown"
  },
  "language_info": {
   "codemirror_mode": "markdown",
   "file_extension": ".md",
   "mimetype": "text/markdown",
   "name": "Markdown",
   "pygments_lexer": "markdown"
  }
 },
 "nbformat": 4,
 "nbformat_minor": 2
}
