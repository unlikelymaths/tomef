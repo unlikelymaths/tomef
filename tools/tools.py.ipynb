{
 "cells": [
  {
   "cell_type": "markdown",
   "metadata": {},
   "source": [
    "# Tools\n",
    "<div style=\"position: absolute; right:0;top:0\"><a href=\"../evaluation.py.ipynb\" style=\"text-decoration: none\"> <font size=\"5\">↑</font></a></div>\n",
    "\n",
    "Various Scripts. Command line use:\n",
    "\n",
    "`python evaluation.py --script scriptname`\n",
    "\n",
    "## Overview\n",
    "`scriptname` in brackets\n",
    "- [Export Results](./export_results.ipynb) (export)\n",
    "- [Clear Data](./clear_data.ipynb) (cleardata)"
   ]
  },
  {
   "cell_type": "code",
   "execution_count": null,
   "metadata": {},
   "outputs": [],
   "source": [
    "import argparse\n",
    "from os.path import join, dirname\n",
    "\n",
    "def run_tools_():\n",
    "    parser = argparse.ArgumentParser(description=\"Topic Modeling Evaluation Framework\")\n",
    "    parser.add_argument('-s','--script',\n",
    "        action='store',\n",
    "        choices=['letter', 'wiki', 'tweetsodp', 'export', 'cleardata'],\n",
    "        help='Runs a script from the tools folder')\n",
    "    parser.add_argument('-p','--printconfig',\n",
    "        action='store_true',\n",
    "        help='Prints the configuration')\n",
    "    args = parser.parse_args()\n",
    "    \n",
    "    if args.script:\n",
    "        if args.script == \"letter\":\n",
    "            pass\n",
    "        elif args.script == \"wiki\":\n",
    "            pass\n",
    "        elif args.script == \"tweetsodp\":\n",
    "            pass\n",
    "        elif args.script == \"export\":\n",
    "            from tools.export_results import main as export_results_main\n",
    "            export_results_main(join(dirname(__file__),'../'))\n",
    "        elif args.script == 'cleardata':\n",
    "            from tools.clear_data import main as clear_data_main\n",
    "            clear_data_main()\n",
    "        exit()\n",
    "        \n",
    "def run_tools():\n",
    "    try:\n",
    "        get_ipython\n",
    "    except:\n",
    "        run_tools_()"
   ]
  }
 ],
 "metadata": {
  "kernelspec": {
   "display_name": "Python 3",
   "language": "python",
   "name": "python3"
  },
  "language_info": {
   "codemirror_mode": {
    "name": "ipython",
    "version": 3
   },
   "file_extension": ".py",
   "mimetype": "text/x-python",
   "name": "python",
   "nbconvert_exporter": "python",
   "pygments_lexer": "ipython3",
   "version": "3.6.5"
  }
 },
 "nbformat": 4,
 "nbformat_minor": 2
}
