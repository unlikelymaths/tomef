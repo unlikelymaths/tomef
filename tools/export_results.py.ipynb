{
 "cells": [
  {
   "cell_type": "markdown",
   "metadata": {},
   "source": [
    "# Export Results\n",
    "<div style=\"position: absolute; right:0;top:0\"><a href=\"./tools.ipynb\" style=\"text-decoration: none\"> <font size=\"5\">←</font></a>\n",
    "<a href=\"../evaluation.ipynb\" style=\"text-decoration: none\"> <font size=\"5\">↑</font></a></div>\n",
    "\n",
    "This script collects all HTML files and puts them into a `export.zip` archive in the results folder. Useful for sharing results outside of a jupyter lab.\n",
    "\n",
    "https://nbconvert.readthedocs.io/en/5.x/nbconvert_library.html"
   ]
  },
  {
   "cell_type": "code",
   "execution_count": null,
   "metadata": {},
   "outputs": [],
   "source": [
    "from init import setup\n",
    "setup(vars())\n",
    "\n",
    "import os\n",
    "import zipfile \n",
    "\n",
    "if _isMain:\n",
    "    try:\n",
    "        runvars = {'basepath': os.path.join(os.path.dirname(__file__),'../')}\n",
    "    except:\n",
    "        runvars = {'basepath': os.path.join(os.getcwd(),'../')}\n",
    "\n",
    "def code_folders(runvars):\n",
    "    runvars['basepath'] = os.path.abspath(runvars['basepath'])\n",
    "    dir_list = ['./','./docs/','./tools/', './embedding/',\n",
    "                './importer/', './tokenizer/', './vocab/', \n",
    "                './vectorizer/', './models/', './distiller/', \n",
    "                './metrics/']\n",
    "    file_list = []\n",
    "    \n",
    "    file_types = ['.html', '.md', '.png']\n",
    "    \n",
    "    for directory in dir_list:\n",
    "        directory_abs = os.path.abspath(os.path.join(runvars['basepath'],directory))\n",
    "        for filename in os.listdir(directory_abs):\n",
    "            if any([file_type for file_type in file_types if filename.endswith(file_type)]):\n",
    "                filename_full = os.path.join(directory,filename)\n",
    "                filename_abs= os.path.join(runvars['basepath'],filename_full)\n",
    "                file_list.append((filename_abs, filename_full))\n",
    "        \n",
    "    zip_path = os.path.join(runvars['basepath'],'results/export.zip')\n",
    "    with zipfile.ZipFile(zip_path, 'w', zipfile.ZIP_DEFLATED) as zip: \n",
    "        # writing each file one by one \n",
    "        for file in file_list: \n",
    "            zip.write(file[0], arcname = file[1]) \n",
    "            \n",
    "def main(basepath):\n",
    "    runvars = {'basepath': basepath}\n",
    "    code_folders(runvars)\n",
    "    \n",
    "if _isMain:\n",
    "    code_folders(runvars)"
   ]
  }
 ],
 "metadata": {
  "kernelspec": {
   "display_name": "Python 3",
   "language": "python",
   "name": "python3"
  },
  "language_info": {
   "codemirror_mode": {
    "name": "ipython",
    "version": 3
   },
   "file_extension": ".py",
   "mimetype": "text/x-python",
   "name": "python",
   "nbconvert_exporter": "python",
   "pygments_lexer": "ipython3",
   "version": "3.6.5"
  }
 },
 "nbformat": 4,
 "nbformat_minor": 2
}
