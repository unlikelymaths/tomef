{
 "cells": [
  {
   "cell_type": "markdown",
   "metadata": {},
   "source": [
    "# Vocab App\n",
    "<div style=\"position: absolute; right:0;top:0\"><a href=\"./vocab.ipynb\" style=\"text-decoration: none\"> <font size=\"5\">←</font></a>\n",
    "<a href=\"../evaluation.py.ipynb\" style=\"text-decoration: none\"> <font size=\"5\">↑</font></a></div>\n",
    "\n",
    "Chose settings and run vocab"
   ]
  },
  {
   "cell_type": "code",
   "execution_count": 1,
   "metadata": {},
   "outputs": [
    {
     "data": {
      "application/vnd.jupyter.widget-view+json": {
       "model_id": "d85ae204701b4007af6119c456b92509",
       "version_major": 2,
       "version_minor": 0
      },
      "text/plain": [
       "VBox(children=(Dropdown(description='Dataset', layout=Layout(width='400px'), options=(('ACM', 'acm'), ('ATD', …"
      ]
     },
     "metadata": {},
     "output_type": "display_data"
    },
    {
     "data": {
      "text/html": [
       "<style>\n",
       "        .tdalignedlabel {width: 150px;\n",
       "            text-align: left !important; \n",
       "            vertical-align: top !important;\n",
       "            }\n",
       "        .tdalignedvalue {width: 250px;\n",
       "            text-align: left !important; \n",
       "            vertical-align: top !important;\n",
       "            }\n",
       "    </style>\n",
       "<table>\n",
       "<tr>\n",
       "    <td class=\"tdalignedlabel\">\n",
       "        <b>Data Name</b>\n",
       "    </td>\n",
       "    <td class=\"tdalignedvalue\">\n",
       "        TweetsLA (<font color=\"green\"><b>exists</b></font>)\n",
       "    </td>\n",
       "</tr>\n",
       "<tr>\n",
       "    <td class=\"tdalignedlabel\">\n",
       "        <b>Token Version</b>\n",
       "    </td>\n",
       "    <td class=\"tdalignedvalue\">\n",
       "        B2 (<font color=\"green\"><b>exists</b></font>)\n",
       "    </td>\n",
       "</tr>\n",
       "<tr>\n",
       "    <td class=\"tdalignedlabel\">\n",
       "        <b>Vocab</b>\n",
       "    </td>\n",
       "    <td class=\"tdalignedvalue\">\n",
       "        <font color=\"green\"><b>exists</b></font>\n",
       "    </td>\n",
       "</tr>\n",
       "<tr>\n",
       "    <td class=\"tdalignedlabel\">\n",
       "        Vocab Version\n",
       "    </td>\n",
       "    <td class=\"tdalignedvalue\">\n",
       "        B1\n",
       "    </td>\n",
       "</tr>\n",
       "<tr>\n",
       "    <td class=\"tdalignedlabel\">\n",
       "        Minimum Documents\n",
       "    </td>\n",
       "    <td class=\"tdalignedvalue\">\n",
       "        0.0001\n",
       "    </td>\n",
       "</tr>\n",
       "<tr>\n",
       "    <td class=\"tdalignedlabel\">\n",
       "        Minimum Count\n",
       "    </td>\n",
       "    <td class=\"tdalignedvalue\">\n",
       "        10\n",
       "    </td>\n",
       "</tr>\n",
       "<tr>\n",
       "    <td class=\"tdalignedlabel\">\n",
       "        Minimum Word Length\n",
       "    </td>\n",
       "    <td class=\"tdalignedvalue\">\n",
       "        3\n",
       "    </td>\n",
       "</tr>\n",
       "<tr>\n",
       "    <td class=\"tdalignedlabel\">\n",
       "        Maximum Word Length\n",
       "    </td>\n",
       "    <td class=\"tdalignedvalue\">\n",
       "        30\n",
       "    </td>\n",
       "</tr>\n",
       "</table>\n"
      ],
      "text/plain": [
       "<widgetbase.StyledHTML object>"
      ]
     },
     "metadata": {},
     "output_type": "display_data"
    },
    {
     "data": {
      "text/markdown": [],
      "text/plain": [
       "<IPython.core.display.Markdown object>"
      ]
     },
     "metadata": {},
     "output_type": "display_data"
    },
    {
     "data": {
      "application/vnd.jupyter.widget-view+json": {
       "model_id": "6cd7785167f94ff58016afd4311511c2",
       "version_major": 2,
       "version_minor": 0
      },
      "text/plain": [
       "FloatProgress(value=0.0, bar_style='info', layout=Layout(visibility='hidden'), max=1.0, style=ProgressStyle(de…"
      ]
     },
     "metadata": {},
     "output_type": "display_data"
    }
   ],
   "source": [
    "from __init__ import init_vars\n",
    "init_vars(vars())\n",
    "\n",
    "from vocab.widgets import vocab_app\n",
    "vocab_app()"
   ]
  }
 ],
 "metadata": {
  "kernelspec": {
   "display_name": "Python 3",
   "language": "python",
   "name": "python3"
  },
  "language_info": {
   "codemirror_mode": {
    "name": "ipython",
    "version": 3
   },
   "file_extension": ".py",
   "mimetype": "text/x-python",
   "name": "python",
   "nbconvert_exporter": "python",
   "pygments_lexer": "ipython3",
   "version": "3.6.5"
  }
 },
 "nbformat": 4,
 "nbformat_minor": 2
}
