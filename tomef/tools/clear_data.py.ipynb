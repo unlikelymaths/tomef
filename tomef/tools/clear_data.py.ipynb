{
 "cells": [
  {
   "cell_type": "markdown",
   "metadata": {},
   "source": [
    "# Clear Data\n",
    "<div style=\"position: absolute; right:0;top:0\"><a href=\"./tools.ipynb\" style=\"text-decoration: none\"> <font size=\"5\">←</font></a>\n",
    "<a href=\"../evaluation.ipynb\" style=\"text-decoration: none\"> <font size=\"5\">↑</font></a></div>\n",
    "\n",
    "This script deletes all files in the following folders to free up disk space. Use with caution!\n",
    "- imported\n",
    "- tokenized\n",
    "- vocab\n",
    "- vectorized\n",
    "- models"
   ]
  },
  {
   "cell_type": "code",
   "execution_count": null,
   "metadata": {},
   "outputs": [],
   "source": [
    "from init import setup\n",
    "setup(vars())\n",
    "try:\n",
    "    %reload_ext autoreload\n",
    "    %autoreload 2\n",
    "except NameError: pass\n",
    "\n",
    "from os import listdir, remove\n",
    "from os.path import isfile, join\n",
    "\n",
    "import config\n",
    "from base import nbprint\n",
    "\n",
    "def clear_data(dryrun):\n",
    "    folders = [config.paths['imported'],\n",
    "             config.paths['tokenized'],\n",
    "             config.paths['vocab'],\n",
    "             config.paths['vectorized'],\n",
    "             config.paths['models'],\n",
    "             ]\n",
    "    \n",
    "    for clear_dir in folders:\n",
    "        for f in listdir(clear_dir):\n",
    "            f_abs = join(clear_dir, f)\n",
    "            if isfile(f_abs) and not f_abs.endswith('.gitignore'):\n",
    "                nbprint('Deleting {}'.format(f_abs))\n",
    "                if not dryrun:\n",
    "                    remove(f_abs) \n",
    "                    \n",
    "def main():\n",
    "    clear_data(False)\n",
    "    \n",
    "if _isMain:\n",
    "    clear_data(True)"
   ]
  }
 ],
 "metadata": {
  "kernelspec": {
   "display_name": "Python 3",
   "language": "python",
   "name": "python3"
  },
  "language_info": {
   "codemirror_mode": {
    "name": "ipython",
    "version": 3
   },
   "file_extension": ".py",
   "mimetype": "text/x-python",
   "name": "python",
   "nbconvert_exporter": "python",
   "pygments_lexer": "ipython3",
   "version": "3.6.5"
  }
 },
 "nbformat": 4,
 "nbformat_minor": 2
}
