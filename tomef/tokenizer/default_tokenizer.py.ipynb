{
 "cells": [
  {
   "cell_type": "markdown",
   "metadata": {},
   "source": [
    "# DefaultTokenizer\n",
    "<div style=\"position: absolute; right:0;top:0\"><a href=\"./tokenizer.ipynb\" style=\"text-decoration: none\"> <font size=\"5\">←</font></a>\n",
    "<a href=\"../evaluation.py.ipynb\" style=\"text-decoration: none\"> <font size=\"5\">↑</font></a></div>\n",
    "\n",
    "This module provides the `DefaultTokenizer` class that transforms the `text` of a document into `tokens`.\n",
    "It executes various functions that are controlled by the `token_info` settings.\n",
    "You can chose dataset, token version and a document to see the effect of various settings.\n",
    "The array `fixed_tokens` is used for all tokens that are no further processed.\n",
    "\n",
    "---\n",
    "## Setup and Settings\n",
    "---"
   ]
  },
  {
   "cell_type": "code",
   "execution_count": 1,
   "metadata": {},
   "outputs": [
    {
     "data": {
      "application/vnd.jupyter.widget-view+json": {
       "model_id": "e5d749ad06c045d48ee741a0735aca6f",
       "version_major": 2,
       "version_minor": 0
      },
      "text/plain": [
       "VBox(children=(Dropdown(description='Dataset', layout=Layout(width='400px'), options=(('ACM', 'acm'), ('ATD', …"
      ]
     },
     "metadata": {},
     "output_type": "display_data"
    },
    {
     "data": {
      "text/html": [
       "<style>\n",
       "        .tdalignedlabel {width: 150px;\n",
       "            text-align: left !important; \n",
       "            vertical-align: top !important;\n",
       "            }\n",
       "        .tdalignedvalue {width: 250px;\n",
       "            text-align: left !important; \n",
       "            vertical-align: top !important;\n",
       "            }\n",
       "    </style>\n",
       "<table>\n",
       "<tr>\n",
       "    <td class=\"tdalignedlabel\">\n",
       "        <b>Data Name</b>\n",
       "    </td>\n",
       "    <td class=\"tdalignedvalue\">\n",
       "        Reuters (<font color=\"green\"><b>exists</b></font>)\n",
       "    </td>\n",
       "</tr>\n",
       "<tr>\n",
       "    <td class=\"tdalignedlabel\">\n",
       "        <b>Token</b>\n",
       "    </td>\n",
       "    <td class=\"tdalignedvalue\">\n",
       "        <font color=\"green\"><b>exists</b></font>\n",
       "    </td>\n",
       "</tr>\n",
       "<tr>\n",
       "    <td class=\"tdalignedlabel\">\n",
       "        Token Version\n",
       "    </td>\n",
       "    <td class=\"tdalignedvalue\">\n",
       "        B0\n",
       "    </td>\n",
       "</tr>\n",
       "<tr>\n",
       "    <td class=\"tdalignedlabel\">\n",
       "        Class\n",
       "    </td>\n",
       "    <td class=\"tdalignedvalue\">\n",
       "        default_tokenizer.DefaultTokenizer\n",
       "    </td>\n",
       "</tr>\n",
       "<tr>\n",
       "    <td class=\"tdalignedlabel\">\n",
       "        Settings\n",
       "    </td>\n",
       "    <td class=\"tdalignedvalue\">\n",
       "        <b>numbers</b>: skip, <b>numbers_split</b>: True, <b>urls</b>: domain, <b>ascii_emotes</b>: skip, <b>unicode_emotes</b>: skip, <b>lowercase</b>: True, <b>alnum_only</b>: weak, <b>ascii_only</b>: False\n",
       "    </td>\n",
       "</tr>\n",
       "<tr>\n",
       "    <td class=\"tdalignedlabel\">\n",
       "        <b>Document</b>\n",
       "    </td>\n",
       "    <td class=\"tdalignedvalue\">\n",
       "        \n",
       "    </td>\n",
       "</tr>\n",
       "<tr>\n",
       "    <td class=\"tdalignedlabel\">\n",
       "        Id\n",
       "    </td>\n",
       "    <td class=\"tdalignedvalue\">\n",
       "        0\n",
       "    </td>\n",
       "</tr>\n",
       "<tr>\n",
       "    <td class=\"tdalignedlabel\">\n",
       "        \n",
       "    </td>\n",
       "    <td class=\"tdalignedvalue\">\n",
       "        <textarea rows=\"16\" cols=\"100\" readonly>ASIAN EXPORTERS FEAR DAMAGE FROM U. S.- JAPAN RIFT Mounting trade friction between the U. S. And Japan has raised fears among many of Asia's exporting nations that the row could inflict far - reaching economic damage, businessmen and officials said. They told Reuter correspondents in Asian capitals a U. S. Move against Japan might boost protectionist sentiment in the U. S. And lead to curbs on American imports of their products. But some exporters said that while the conflict would hurt them in the long - run, in the short - term Tokyo's loss might be their gain. The U. S. Has said it will impose 300 mln dlrs of tariffs on imports of Japanese electronics goods on April 17, in retaliation for Japan's alleged failure to stick to a pact not to sell semiconductors on world markets at below cost. Unofficial Japanese estimates put the impact of the tariffs at 10 billion dlrs and spokesmen for major electronics firms said they would virtually halt exports of products hit by the new taxes. \" We wouldn't be able to do business,\" said a spokesman for leading Japanese electronics firm Matsushita Electric Industrial Co Ltd & lt ; MC. T >. \" If the tariffs remain in place for any length of time beyond a few months it will mean the complete erosion of exports (of goods subject to tariffs) to the U. S.,\" said Tom Murtha, a stock analyst at the Tokyo office of broker & lt ; James Capel and Co >. In Taiwan, businessmen and officials are also worried. \" We are aware of the seriousness of the U. S. Threat against Japan because it serves as a warning to us,\" said a senior Taiwanese trade official who asked not to be named. Taiwan had a trade trade surplus of 15.6 billion dlrs last year, 95 pct of it with the U. S. The surplus helped swell Taiwan's foreign exchange reserves to 53 billion dlrs, among the world's largest. \" We must quickly open our markets, remove trade barriers and cut import tariffs to allow imports of U. S. Products, if we want to defuse problems from possible U. S. Retaliation,\" said Paul Sheen, chairman of textile exporters & lt ; Taiwan Safe Group >. A senior official of South Korea's trade promotion association said the trade dispute between the U. S. And Japan might also lead to pressure on South Korea, whose chief exports are similar to those of Japan. Last year South Korea had a trade surplus of 7.1 billion dlrs with the U. S., Up from 4.9 billion dlrs in 1985. In Malaysia, trade officers and businessmen said tough curbs against Japan might allow hard - hit producers of semiconductors in third countries to expand their sales to the U. S. In Hong Kong, where newspapers have alleged Japan has been selling below - cost semiconductors, some electronics manufacturers share that view. But other businessmen said such a short - term commercial advantage would be outweighed by further U. S. Pressure to block imports. \" That is a very short - term view,\" said Lawrence Mills, director - general of the Federation of Hong Kong Industry. \" If the whole purpose is to prevent imports, one day it will be extended to other sources. Much more serious for Hong Kong is the disadvantage of action restraining trade,\" he said. The U. S. Last year was Hong Kong's biggest export market, accounting for over 30 pct of domestically produced exports. The Australian government is awaiting the outcome of trade talks between the U. S. And Japan with interest and concern, Industry Minister John Button said in Canberra last Friday. \" This kind of deterioration in trade relations between two countries which are major trading partners of ours is a very serious matter,\" Button said. He said Australia's concerns centred on coal and beef, Australia's two largest exports to Japan and also significant U. S. Exports to that country. Meanwhile U. S.- Japanese diplomatic manoeuvres to solve the trade stand - off continue. Japan's ruling Liberal Democratic Party yesterday outlined a package of economic measures to boost the Japanese economy. The measures proposed include a large supplementary budget and record public works spending in the first half of the financial year. They also call for stepped - up spending as an emergency measure to stimulate the economy despite Prime Minister Yasuhiro Nakasone's avowed fiscal reform program. Deputy U. S. Trade Representative Michael Smith and Makoto Kuroda, Japan's deputy minister of International Trade and Industry (MITI), are due to meet in Washington this week in an effort to end the dispute.</textarea>\n",
       "    </td>\n",
       "</tr>\n",
       "</table>\n"
      ],
      "text/plain": [
       "<widgetbase.StyledHTML object>"
      ]
     },
     "metadata": {},
     "output_type": "display_data"
    },
    {
     "data": {
      "text/markdown": [],
      "text/plain": [
       "<IPython.core.display.Markdown object>"
      ]
     },
     "metadata": {},
     "output_type": "display_data"
    },
    {
     "data": {
      "application/vnd.jupyter.widget-view+json": {
       "model_id": "2e0a8ce6253d48ab92bbd4547519601d",
       "version_major": 2,
       "version_minor": 0
      },
      "text/plain": [
       "FloatProgress(value=0.0, bar_style='info', layout=Layout(visibility='hidden'), max=1.0, style=ProgressStyle(de…"
      ]
     },
     "metadata": {},
     "output_type": "display_data"
    }
   ],
   "source": [
    "from __init__ import init_vars\n",
    "init_vars(vars(), ('info', {}), ('runvars', {}))\n",
    "\n",
    "import re\n",
    "import emoji\n",
    "    \n",
    "import data\n",
    "import config\n",
    "from base import nbprint\n",
    "from util import ProgressIterator, add_method\n",
    "\n",
    "import tokenizer.common\n",
    "import tokenizer.emoticons\n",
    "from tokenizer.token_util import iterate_tokens, TokenizerBase\n",
    "from tokenizer.widgets import token_picker, run_and_compare, show_comparison\n",
    "\n",
    "if RUN_SCRIPT: token_picker(info, runvars)"
   ]
  },
  {
   "cell_type": "markdown",
   "metadata": {},
   "source": [
    "---\n",
    "## Tokenize Document\n",
    "---\n",
    "The following functions consitute the `DefaultTokenizer` class that transforms the raw text of a document into tokens."
   ]
  },
  {
   "cell_type": "code",
   "execution_count": 2,
   "metadata": {},
   "outputs": [],
   "source": [
    "URLS_OPTIONS = ['skip', 'keep', 'domain', 'replace', 'drop']\n",
    "EMOTES_OPTIONS = ['skip', 'keep', 'replace', 'drop']\n",
    "ALNUM_OPTIONS = ['skip', 'weak', 'apostrophe', 'strict']\n",
    "NUMBERS_OPTIONS = ['skip', 'decimal-on-one', 'all-on-one', 'drop']\n",
    "\n",
    "class DefaultTokenizer(TokenizerBase):\n",
    "    \n",
    "    def __init__(self, info):\n",
    "        super().__init__(info)\n",
    "        token_info = info.get('token_info', {})\n",
    "        \n",
    "        self.urls = token_info.get('urls', 'skip')\n",
    "        try:\n",
    "            self.urls_idx = URLS_OPTIONS.index(self.urls)\n",
    "        except ValueError:\n",
    "            raise config.ConfigException(('Invalid DefaultTokenizer configuration option urls \"{}\". '\n",
    "                                          'Valid options are \"{}\".').format(self.urls, '\", \"'.join(URLS_OPTIONS)))\n",
    "        \n",
    "        self.ascii_emotes   = token_info.get('ascii_emotes', 'skip')\n",
    "        try:\n",
    "            self.ascii_emotes_idx = EMOTES_OPTIONS.index(self.ascii_emotes)\n",
    "        except ValueError:\n",
    "            raise config.ConfigException(('Invalid DefaultTokenizer configuration option ascii_emotes \"{}\". '\n",
    "                                          'Valid options are \"{}\".').format(self.ascii_emotes, '\", \"'.join(EMOTES_OPTIONS)))\n",
    "        \n",
    "        self.unicode_emotes = token_info.get('unicode_emotes', 'skip')\n",
    "        try:\n",
    "            self.unicode_emotes_idx = EMOTES_OPTIONS.index(self.unicode_emotes)\n",
    "        except ValueError:\n",
    "            raise config.ConfigException(('Invalid DefaultTokenizer configuration option unicode_emotes \"{}\". '\n",
    "                                          'Valid options are \"{}\".').format(self.unicode_emotes, '\", \"'.join(EMOTES_OPTIONS)))\n",
    "        \n",
    "        self.alnum_only     = token_info.get('alnum_only', True)\n",
    "        try:\n",
    "            self.alnum_only_idx = ALNUM_OPTIONS.index(self.alnum_only)\n",
    "        except ValueError:\n",
    "            raise config.ConfigException(('Invalid DefaultTokenizer configuration option alnum_only \"{}\". '\n",
    "                                          'Valid options are \"{}\".').format(self.alnum_only, '\", \"'.join(ALNUM_OPTIONS)))\n",
    "        \n",
    "        self.numbers        = token_info.get('numbers', 'skip')\n",
    "        try:\n",
    "            self.numbers_idx = NUMBERS_OPTIONS.index(self.numbers)\n",
    "        except ValueError:\n",
    "            raise config.ConfigException(('Invalid DefaultTokenizer configuration option numbers \"{}\". '\n",
    "                                          'Valid options are \"{}\".').format(self.numbers, '\", \"'.join(NUMBERS_OPTIONS)))\n",
    "        \n",
    "        \n",
    "        self.lowercase      = token_info.get('lowercase', True)\n",
    "        self.numbers_split  = token_info.get('numbers_split', False)\n",
    "        self.ascii_only     = token_info.get('ascii_only', True)\n",
    "        \n",
    "if RUN_SCRIPT:\n",
    "    default_tokenizer = DefaultTokenizer(info)"
   ]
  },
  {
   "cell_type": "markdown",
   "metadata": {},
   "source": [
    "### Prepare\n",
    "\n",
    "Splits the text at whitespace and initializes an empty list of fixed tokens. The `separator_token` is replaced with the `separator_token_replacement`, so that it can be used for saving the tokens as a string, i.e.\n",
    "```\n",
    "This:is:a:token:list\n",
    "```"
   ]
  },
  {
   "cell_type": "code",
   "execution_count": 3,
   "metadata": {},
   "outputs": [
    {
     "data": {
      "text/html": [
       "<table>\n",
       "            <tr>\n",
       "                <td>Text</td>\n",
       "                <td>Tokens</td>\n",
       "            </tr>\n",
       "            <tr>\n",
       "                <td>\n",
       "                    <textarea rows=\"20\" cols=\"80\" readonly>ASIAN EXPORTERS FEAR DAMAGE FROM U. S.- JAPAN RIFT Mounting trade friction between the U. S. And Japan has raised fears among many of Asia's exporting nations that the row could inflict far - reaching economic damage, businessmen and officials said. They told Reuter correspondents in Asian capitals a U. S. Move against Japan might boost protectionist sentiment in the U. S. And lead to curbs on American imports of their products. But some exporters said that while the conflict would hurt them in the long - run, in the short - term Tokyo's loss might be their gain. The U. S. Has said it will impose 300 mln dlrs of tariffs on imports of Japanese electronics goods on April 17, in retaliation for Japan's alleged failure to stick to a pact not to sell semiconductors on world markets at below cost. Unofficial Japanese estimates put the impact of the tariffs at 10 billion dlrs and spokesmen for major electronics firms said they would virtually halt exports of products hit by the new taxes. \" We wouldn't be able to do business,\" said a spokesman for leading Japanese electronics firm Matsushita Electric Industrial Co Ltd & lt , MC. T >. \" If the tariffs remain in place for any length of time beyond a few months it will mean the complete erosion of exports (of goods subject to tariffs) to the U. S.,\" said Tom Murtha, a stock analyst at the Tokyo office of broker & lt , James Capel and Co >. In Taiwan, businessmen and officials are also worried. \" We are aware of the seriousness of the U. S. Threat against Japan because it serves as a warning to us,\" said a senior Taiwanese trade official who asked not to be named. Taiwan had a trade trade surplus of 15.6 billion dlrs last year, 95 pct of it with the U. S. The surplus helped swell Taiwan's foreign exchange reserves to 53 billion dlrs, among the world's largest. \" We must quickly open our markets, remove trade barriers and cut import tariffs to allow imports of U. S. Products, if we want to defuse problems from possible U. S. Retaliation,\" said Paul Sheen, chairman of textile exporters & lt , Taiwan Safe Group >. A senior official of South Korea's trade promotion association said the trade dispute between the U. S. And Japan might also lead to pressure on South Korea, whose chief exports are similar to those of Japan. Last year South Korea had a trade surplus of 7.1 billion dlrs with the U. S., Up from 4.9 billion dlrs in 1985. In Malaysia, trade officers and businessmen said tough curbs against Japan might allow hard - hit producers of semiconductors in third countries to expand their sales to the U. S. In Hong Kong, where newspapers have alleged Japan has been selling below - cost semiconductors, some electronics manufacturers share that view. But other businessmen said such a short - term commercial advantage would be outweighed by further U. S. Pressure to block imports. \" That is a very short - term view,\" said Lawrence Mills, director - general of the Federation of Hong Kong Industry. \" If the whole purpose is to prevent imports, one day it will be extended to other sources. Much more serious for Hong Kong is the disadvantage of action restraining trade,\" he said. The U. S. Last year was Hong Kong's biggest export market, accounting for over 30 pct of domestically produced exports. The Australian government is awaiting the outcome of trade talks between the U. S. And Japan with interest and concern, Industry Minister John Button said in Canberra last Friday. \" This kind of deterioration in trade relations between two countries which are major trading partners of ours is a very serious matter,\" Button said. He said Australia's concerns centred on coal and beef, Australia's two largest exports to Japan and also significant U. S. Exports to that country. Meanwhile U. S.- Japanese diplomatic manoeuvres to solve the trade stand - off continue. Japan's ruling Liberal Democratic Party yesterday outlined a package of economic measures to boost the Japanese economy. The measures proposed include a large supplementary budget and record public works spending in the first half of the financial year. They also call for stepped - up spending as an emergency measure to stimulate the economy despite Prime Minister Yasuhiro Nakasone's avowed fiscal reform program. Deputy U. S. Trade Representative Michael Smith and Makoto Kuroda, Japan's deputy minister of International Trade and Industry (MITI), are due to meet in Washington this week in an effort to end the dispute.</textarea>\n",
       "                </td>\n",
       "                <td>\n",
       "                    <textarea rows=\"20\" cols=\"80\" readonly>ASIAN; EXPORTERS; FEAR; DAMAGE; FROM; U.; S.-; JAPAN; RIFT; Mounting; trade; friction; between; the; U.; S.; And; Japan; has; raised; fears; among; many; of; Asia's; exporting; nations; that; the; row; could; inflict; far; -; reaching; economic; damage,; businessmen; and; officials; said.; They; told; Reuter; correspondents; in; Asian; capitals; a; U.; S.; Move; against; Japan; might; boost; protectionist; sentiment; in; the; U.; S.; And; lead; to; curbs; on; American; imports; of; their; products.; But; some; exporters; said; that; while; the; conflict; would; hurt; them; in; the; long; -; run,; in; the; short; -; term; Tokyo's; loss; might; be; their; gain.; The; U.; S.; Has; said; it; will; impose; 300; mln; dlrs; of; tariffs; on; imports; of; Japanese; electronics; goods; on; April; 17,; in; retaliation; for; Japan's; alleged; failure; to; stick; to; a; pact; not; to; sell; semiconductors; on; world; markets; at; below; cost.; Unofficial; Japanese; estimates; put; the; impact; of; the; tariffs; at; 10; billion; dlrs; and; spokesmen; for; major; electronics; firms; said; they; would; virtually; halt; exports; of; products; hit; by; the; new; taxes.; \"; We; wouldn't; be; able; to; do; business,\"; said; a; spokesman; for; leading; Japanese; electronics; firm; Matsushita; Electric; Industrial; Co; Ltd; &; lt; ;; MC.; T; >.; \"; If; the; tariffs; remain; in; place; for; any; length; of; time; beyond; a; few; months; it; will; mean; the; complete; erosion; of; exports; (of; goods; subject; to; tariffs); to; the; U.; S.,\"; said; Tom; Murtha,; a; stock; analyst; at; the; Tokyo; office; of; broker; &; lt; ;; James; Capel; and; Co; >.; In; Taiwan,; businessmen; and; officials; are; also; worried.; \"; We; are; aware; of; the; seriousness; of; the; U.; S.; Threat; against; Japan; because; it; serves; as; a; warning; to; us,\"; said; a; senior; Taiwanese; trade; official; who; asked; not; to; be; named.; Taiwan; had; a; trade; trade; surplus; of; 15.6; billion; dlrs; last; year,; 95; pct; of; it; with; the; U.; S.; The; surplus; helped; swell; Taiwan's; foreign; exchange; reserves; to; 53; billion; dlrs,; among; the; world's; largest.; \"; We; must; quickly; open; our; markets,; remove; trade; barriers; and; cut; import; tariffs; to; allow; imports; of; U.; S.; Products,; if; we; want; to; defuse; problems; from; possible; U.; S.; Retaliation,\"; said; Paul; Sheen,; chairman; of; textile; exporters; &; lt; ;; Taiwan; Safe; Group; >.; A; senior; official; of; South; Korea's; trade; promotion; association; said; the; trade; dispute; between; the; U.; S.; And; Japan; might; also; lead; to; pressure; on; South; Korea,; whose; chief; exports; are; similar; to; those; of; Japan.; Last; year; South; Korea; had; a; trade; surplus; of; 7.1; billion; dlrs; with; the; U.; S.,; Up; from; 4.9; billion; dlrs; in; 1985.; In; Malaysia,; trade; officers; and; businessmen; said; tough; curbs; against; Japan; might; allow; hard; -; hit; producers; of; semiconductors; in; third; countries; to; expand; their; sales; to; the; U.; S.; In; Hong; Kong,; where; newspapers; have; alleged; Japan; has; been; selling; below; -; cost; semiconductors,; some; electronics; manufacturers; share; that; view.; But; other; businessmen; said; such; a; short; -; term; commercial; advantage; would; be; outweighed; by; further; U.; S.; Pressure; to; block; imports.; \"; That; is; a; very; short; -; term; view,\"; said; Lawrence; Mills,; director; -; general; of; the; Federation; of; Hong; Kong; Industry.; \"; If; the; whole; purpose; is; to; prevent; imports,; one; day; it; will; be; extended; to; other; sources.; Much; more; serious; for; Hong; Kong; is; the; disadvantage; of; action; restraining; trade,\"; he; said.; The; U.; S.; Last; year; was; Hong; Kong's; biggest; export; market,; accounting; for; over; 30; pct; of; domestically; produced; exports.; The; Australian; government; is; awaiting; the; outcome; of; trade; talks; between; the; U.; S.; And; Japan; with; interest; and; concern,; Industry; Minister; John; Button; said; in; Canberra; last; Friday.; \"; This; kind; of; deterioration; in; trade; relations; between; two; countries; which; are; major; trading; partners; of; ours; is; a; very; serious; matter,\"; Button; said.; He; said; Australia's; concerns; centred; on; coal; and; beef,; Australia's; two; largest; exports; to; Japan; and; also; significant; U.; S.; Exports; to; that; country.; Meanwhile; U.; S.-; Japanese; diplomatic; manoeuvres; to; solve; the; trade; stand; -; off; continue.; Japan's; ruling; Liberal; Democratic; Party; yesterday; outlined; a; package; of; economic; measures; to; boost; the; Japanese; economy.; The; measures; proposed; include; a; large; supplementary; budget; and; record; public; works; spending; in; the; first; half; of; the; financial; year.; They; also; call; for; stepped; -; up; spending; as; an; emergency; measure; to; stimulate; the; economy; despite; Prime; Minister; Yasuhiro; Nakasone's; avowed; fiscal; reform; program.; Deputy; U.; S.; Trade; Representative; Michael; Smith; and; Makoto; Kuroda,; Japan's; deputy; minister; of; International; Trade; and; Industry; (MITI),; are; due; to; meet; in; Washington; this; week; in; an; effort; to; end; the; dispute.</textarea>\n",
       "                </td>\n",
       "            </tr>\n",
       "        </table>"
      ],
      "text/plain": [
       "<IPython.core.display.HTML object>"
      ]
     },
     "metadata": {},
     "output_type": "display_data"
    }
   ],
   "source": [
    "@add_method(DefaultTokenizer)\n",
    "def init_tokenization(self, text):\n",
    "    self.fixed_tokens = []\n",
    "    self.text = text.replace(tokenizer.common.separator_token,tokenizer.common.separator_token_replacement)\n",
    "    self.tokens = text.split()\n",
    "\n",
    "if RUN_SCRIPT:\n",
    "    default_tokenizer.init_tokenization(runvars['document']['text'])\n",
    "    show_comparison(default_tokenizer.text, default_tokenizer.tokens, 'Text', 'Tokens')"
   ]
  },
  {
   "cell_type": "markdown",
   "metadata": {},
   "source": [
    "### URLs\n",
    "Supports the following options for `urls`:\n",
    "- `skip`: this step will be skipped\n",
    "- `keep`: keeps every URL as it is, no further processing\n",
    "- `domain`: replaces every URL by its top and second level domain\n",
    "- `drop`: completely removes every URL from the text\n",
    "- `replace`: replaces every URL with the URL Token"
   ]
  },
  {
   "cell_type": "code",
   "execution_count": 4,
   "metadata": {},
   "outputs": [
    {
     "data": {
      "text/html": [
       "<table>\n",
       "            <tr>\n",
       "                <td>Input</td>\n",
       "                <td>Fixed Tokens</td>\n",
       "            </tr>\n",
       "            <tr>\n",
       "                <td>\n",
       "                    <textarea rows=\"20\" cols=\"80\" readonly>ASIAN; EXPORTERS; FEAR; DAMAGE; FROM; U.; S.-; JAPAN; RIFT; Mounting; trade; friction; between; the; U.; S.; And; Japan; has; raised; fears; among; many; of; Asia's; exporting; nations; that; the; row; could; inflict; far; -; reaching; economic; damage,; businessmen; and; officials; said.; They; told; Reuter; correspondents; in; Asian; capitals; a; U.; S.; Move; against; Japan; might; boost; protectionist; sentiment; in; the; U.; S.; And; lead; to; curbs; on; American; imports; of; their; products.; But; some; exporters; said; that; while; the; conflict; would; hurt; them; in; the; long; -; run,; in; the; short; -; term; Tokyo's; loss; might; be; their; gain.; The; U.; S.; Has; said; it; will; impose; 300; mln; dlrs; of; tariffs; on; imports; of; Japanese; electronics; goods; on; April; 17,; in; retaliation; for; Japan's; alleged; failure; to; stick; to; a; pact; not; to; sell; semiconductors; on; world; markets; at; below; cost.; Unofficial; Japanese; estimates; put; the; impact; of; the; tariffs; at; 10; billion; dlrs; and; spokesmen; for; major; electronics; firms; said; they; would; virtually; halt; exports; of; products; hit; by; the; new; taxes.; \"; We; wouldn't; be; able; to; do; business,\"; said; a; spokesman; for; leading; Japanese; electronics; firm; Matsushita; Electric; Industrial; Co; Ltd; &; lt; ;; MC.; T; >.; \"; If; the; tariffs; remain; in; place; for; any; length; of; time; beyond; a; few; months; it; will; mean; the; complete; erosion; of; exports; (of; goods; subject; to; tariffs); to; the; U.; S.,\"; said; Tom; Murtha,; a; stock; analyst; at; the; Tokyo; office; of; broker; &; lt; ;; James; Capel; and; Co; >.; In; Taiwan,; businessmen; and; officials; are; also; worried.; \"; We; are; aware; of; the; seriousness; of; the; U.; S.; Threat; against; Japan; because; it; serves; as; a; warning; to; us,\"; said; a; senior; Taiwanese; trade; official; who; asked; not; to; be; named.; Taiwan; had; a; trade; trade; surplus; of; 15.6; billion; dlrs; last; year,; 95; pct; of; it; with; the; U.; S.; The; surplus; helped; swell; Taiwan's; foreign; exchange; reserves; to; 53; billion; dlrs,; among; the; world's; largest.; \"; We; must; quickly; open; our; markets,; remove; trade; barriers; and; cut; import; tariffs; to; allow; imports; of; U.; S.; Products,; if; we; want; to; defuse; problems; from; possible; U.; S.; Retaliation,\"; said; Paul; Sheen,; chairman; of; textile; exporters; &; lt; ;; Taiwan; Safe; Group; >.; A; senior; official; of; South; Korea's; trade; promotion; association; said; the; trade; dispute; between; the; U.; S.; And; Japan; might; also; lead; to; pressure; on; South; Korea,; whose; chief; exports; are; similar; to; those; of; Japan.; Last; year; South; Korea; had; a; trade; surplus; of; 7.1; billion; dlrs; with; the; U.; S.,; Up; from; 4.9; billion; dlrs; in; 1985.; In; Malaysia,; trade; officers; and; businessmen; said; tough; curbs; against; Japan; might; allow; hard; -; hit; producers; of; semiconductors; in; third; countries; to; expand; their; sales; to; the; U.; S.; In; Hong; Kong,; where; newspapers; have; alleged; Japan; has; been; selling; below; -; cost; semiconductors,; some; electronics; manufacturers; share; that; view.; But; other; businessmen; said; such; a; short; -; term; commercial; advantage; would; be; outweighed; by; further; U.; S.; Pressure; to; block; imports.; \"; That; is; a; very; short; -; term; view,\"; said; Lawrence; Mills,; director; -; general; of; the; Federation; of; Hong; Kong; Industry.; \"; If; the; whole; purpose; is; to; prevent; imports,; one; day; it; will; be; extended; to; other; sources.; Much; more; serious; for; Hong; Kong; is; the; disadvantage; of; action; restraining; trade,\"; he; said.; The; U.; S.; Last; year; was; Hong; Kong's; biggest; export; market,; accounting; for; over; 30; pct; of; domestically; produced; exports.; The; Australian; government; is; awaiting; the; outcome; of; trade; talks; between; the; U.; S.; And; Japan; with; interest; and; concern,; Industry; Minister; John; Button; said; in; Canberra; last; Friday.; \"; This; kind; of; deterioration; in; trade; relations; between; two; countries; which; are; major; trading; partners; of; ours; is; a; very; serious; matter,\"; Button; said.; He; said; Australia's; concerns; centred; on; coal; and; beef,; Australia's; two; largest; exports; to; Japan; and; also; significant; U.; S.; Exports; to; that; country.; Meanwhile; U.; S.-; Japanese; diplomatic; manoeuvres; to; solve; the; trade; stand; -; off; continue.; Japan's; ruling; Liberal; Democratic; Party; yesterday; outlined; a; package; of; economic; measures; to; boost; the; Japanese; economy.; The; measures; proposed; include; a; large; supplementary; budget; and; record; public; works; spending; in; the; first; half; of; the; financial; year.; They; also; call; for; stepped; -; up; spending; as; an; emergency; measure; to; stimulate; the; economy; despite; Prime; Minister; Yasuhiro; Nakasone's; avowed; fiscal; reform; program.; Deputy; U.; S.; Trade; Representative; Michael; Smith; and; Makoto; Kuroda,; Japan's; deputy; minister; of; International; Trade; and; Industry; (MITI),; are; due; to; meet; in; Washington; this; week; in; an; effort; to; end; the; dispute.</textarea>\n",
       "                </td>\n",
       "                <td>\n",
       "                    <textarea rows=\"20\" cols=\"80\" readonly></textarea>\n",
       "                </td>\n",
       "            </tr>\n",
       "        </table>"
      ],
      "text/plain": [
       "<IPython.core.display.HTML object>"
      ]
     },
     "metadata": {},
     "output_type": "display_data"
    }
   ],
   "source": [
    "def _process_urls_keep_fct(url_str):\n",
    "    return url_str\n",
    "def _process_urls_domain_fct(url_str):\n",
    "    for prefix in ['http://', 'https://']:\n",
    "        url_str = url_str.replace(prefix,'')\n",
    "    slash_index = url_str.find('/')\n",
    "    if slash_index > 0:\n",
    "        url_str = url_str[:slash_index]\n",
    "    if url_str.count('.') > 1:\n",
    "        url_str = url_str[url_str.rfind('.',0,url_str.rfind('.'))+1:]\n",
    "    return url_str\n",
    "def _process_urls_replace_fct(url_str):\n",
    "    return tokenizer.common.url_token\n",
    "def _process_urls_drop_fct(url_str):\n",
    "    pass\n",
    "_process_urls_fct_selector = [None,\n",
    "                              _process_urls_keep_fct, \n",
    "                              _process_urls_domain_fct, \n",
    "                              _process_urls_replace_fct, \n",
    "                              _process_urls_drop_fct]\n",
    "    \n",
    "@add_method(DefaultTokenizer)\n",
    "def process_urls_token(self, token):\n",
    "    if (token.startswith(\"http://\") or\n",
    "        token.startswith(\"https://\") or\n",
    "        token.startswith(\"www.\")):\n",
    "        url_str = self._process_urls_fct(token)\n",
    "        if url_str is not None:\n",
    "            self.fixed_tokens.append(url_str)\n",
    "        return None\n",
    "    return token\n",
    "\n",
    "@add_method(DefaultTokenizer)\n",
    "def process_urls(self):\n",
    "    self._process_urls_fct = _process_urls_fct_selector[self.urls_idx]\n",
    "    if self._process_urls_fct is not None:\n",
    "        iterate_tokens(self.tokens, self.process_urls_token)         \n",
    "    \n",
    "if RUN_SCRIPT:\n",
    "    run_and_compare(default_tokenizer, default_tokenizer.process_urls, 'tokens', 'fixed_tokens', 'Input', 'Fixed Tokens')"
   ]
  },
  {
   "cell_type": "markdown",
   "metadata": {},
   "source": [
    "### ASCII Emoticons\n",
    "\n",
    "Supports the following options for `ascii_emotes`:\n",
    "- `skip`: this step will be skipped\n",
    "- `keep`: keeps every ASCII emoticon as it is, no further processing\n",
    "- `drop`: ompletely removes every ASCII emoticon from the text\n",
    "- `replace`: replaces with the emote token"
   ]
  },
  {
   "cell_type": "code",
   "execution_count": 5,
   "metadata": {},
   "outputs": [
    {
     "data": {
      "text/html": [
       "<table>\n",
       "            <tr>\n",
       "                <td>Input</td>\n",
       "                <td>Fixed Tokens</td>\n",
       "            </tr>\n",
       "            <tr>\n",
       "                <td>\n",
       "                    <textarea rows=\"20\" cols=\"80\" readonly>ASIAN; EXPORTERS; FEAR; DAMAGE; FROM; U.; S.-; JAPAN; RIFT; Mounting; trade; friction; between; the; U.; S.; And; Japan; has; raised; fears; among; many; of; Asia's; exporting; nations; that; the; row; could; inflict; far; -; reaching; economic; damage,; businessmen; and; officials; said.; They; told; Reuter; correspondents; in; Asian; capitals; a; U.; S.; Move; against; Japan; might; boost; protectionist; sentiment; in; the; U.; S.; And; lead; to; curbs; on; American; imports; of; their; products.; But; some; exporters; said; that; while; the; conflict; would; hurt; them; in; the; long; -; run,; in; the; short; -; term; Tokyo's; loss; might; be; their; gain.; The; U.; S.; Has; said; it; will; impose; 300; mln; dlrs; of; tariffs; on; imports; of; Japanese; electronics; goods; on; April; 17,; in; retaliation; for; Japan's; alleged; failure; to; stick; to; a; pact; not; to; sell; semiconductors; on; world; markets; at; below; cost.; Unofficial; Japanese; estimates; put; the; impact; of; the; tariffs; at; 10; billion; dlrs; and; spokesmen; for; major; electronics; firms; said; they; would; virtually; halt; exports; of; products; hit; by; the; new; taxes.; \"; We; wouldn't; be; able; to; do; business,\"; said; a; spokesman; for; leading; Japanese; electronics; firm; Matsushita; Electric; Industrial; Co; Ltd; &; lt; ;; MC.; T; >.; \"; If; the; tariffs; remain; in; place; for; any; length; of; time; beyond; a; few; months; it; will; mean; the; complete; erosion; of; exports; (of; goods; subject; to; tariffs); to; the; U.; S.,\"; said; Tom; Murtha,; a; stock; analyst; at; the; Tokyo; office; of; broker; &; lt; ;; James; Capel; and; Co; >.; In; Taiwan,; businessmen; and; officials; are; also; worried.; \"; We; are; aware; of; the; seriousness; of; the; U.; S.; Threat; against; Japan; because; it; serves; as; a; warning; to; us,\"; said; a; senior; Taiwanese; trade; official; who; asked; not; to; be; named.; Taiwan; had; a; trade; trade; surplus; of; 15.6; billion; dlrs; last; year,; 95; pct; of; it; with; the; U.; S.; The; surplus; helped; swell; Taiwan's; foreign; exchange; reserves; to; 53; billion; dlrs,; among; the; world's; largest.; \"; We; must; quickly; open; our; markets,; remove; trade; barriers; and; cut; import; tariffs; to; allow; imports; of; U.; S.; Products,; if; we; want; to; defuse; problems; from; possible; U.; S.; Retaliation,\"; said; Paul; Sheen,; chairman; of; textile; exporters; &; lt; ;; Taiwan; Safe; Group; >.; A; senior; official; of; South; Korea's; trade; promotion; association; said; the; trade; dispute; between; the; U.; S.; And; Japan; might; also; lead; to; pressure; on; South; Korea,; whose; chief; exports; are; similar; to; those; of; Japan.; Last; year; South; Korea; had; a; trade; surplus; of; 7.1; billion; dlrs; with; the; U.; S.,; Up; from; 4.9; billion; dlrs; in; 1985.; In; Malaysia,; trade; officers; and; businessmen; said; tough; curbs; against; Japan; might; allow; hard; -; hit; producers; of; semiconductors; in; third; countries; to; expand; their; sales; to; the; U.; S.; In; Hong; Kong,; where; newspapers; have; alleged; Japan; has; been; selling; below; -; cost; semiconductors,; some; electronics; manufacturers; share; that; view.; But; other; businessmen; said; such; a; short; -; term; commercial; advantage; would; be; outweighed; by; further; U.; S.; Pressure; to; block; imports.; \"; That; is; a; very; short; -; term; view,\"; said; Lawrence; Mills,; director; -; general; of; the; Federation; of; Hong; Kong; Industry.; \"; If; the; whole; purpose; is; to; prevent; imports,; one; day; it; will; be; extended; to; other; sources.; Much; more; serious; for; Hong; Kong; is; the; disadvantage; of; action; restraining; trade,\"; he; said.; The; U.; S.; Last; year; was; Hong; Kong's; biggest; export; market,; accounting; for; over; 30; pct; of; domestically; produced; exports.; The; Australian; government; is; awaiting; the; outcome; of; trade; talks; between; the; U.; S.; And; Japan; with; interest; and; concern,; Industry; Minister; John; Button; said; in; Canberra; last; Friday.; \"; This; kind; of; deterioration; in; trade; relations; between; two; countries; which; are; major; trading; partners; of; ours; is; a; very; serious; matter,\"; Button; said.; He; said; Australia's; concerns; centred; on; coal; and; beef,; Australia's; two; largest; exports; to; Japan; and; also; significant; U.; S.; Exports; to; that; country.; Meanwhile; U.; S.-; Japanese; diplomatic; manoeuvres; to; solve; the; trade; stand; -; off; continue.; Japan's; ruling; Liberal; Democratic; Party; yesterday; outlined; a; package; of; economic; measures; to; boost; the; Japanese; economy.; The; measures; proposed; include; a; large; supplementary; budget; and; record; public; works; spending; in; the; first; half; of; the; financial; year.; They; also; call; for; stepped; -; up; spending; as; an; emergency; measure; to; stimulate; the; economy; despite; Prime; Minister; Yasuhiro; Nakasone's; avowed; fiscal; reform; program.; Deputy; U.; S.; Trade; Representative; Michael; Smith; and; Makoto; Kuroda,; Japan's; deputy; minister; of; International; Trade; and; Industry; (MITI),; are; due; to; meet; in; Washington; this; week; in; an; effort; to; end; the; dispute.</textarea>\n",
       "                </td>\n",
       "                <td>\n",
       "                    <textarea rows=\"20\" cols=\"80\" readonly></textarea>\n",
       "                </td>\n",
       "            </tr>\n",
       "        </table>"
      ],
      "text/plain": [
       "<IPython.core.display.HTML object>"
      ]
     },
     "metadata": {},
     "output_type": "display_data"
    }
   ],
   "source": [
    "def _process_emotes_keep_fct(emoticon):\n",
    "    return emoticon\n",
    "def _process_emotes_replace_fct(emoticon):\n",
    "    return tokenizer.common.emote_token\n",
    "def _process_emotes_drop_fct(emoticon):\n",
    "    pass\n",
    "_process_emotes_fct_selector = [None,\n",
    "                                _process_emotes_keep_fct,\n",
    "                                _process_emotes_replace_fct,\n",
    "                                _process_emotes_drop_fct]\n",
    "\n",
    "@add_method(DefaultTokenizer)\n",
    "def process_ascii_emotes_token(self, token):\n",
    "    for e, remainder in tokenizer.emoticons.western_dict.items():\n",
    "        parts = token.split(e, 1)\n",
    "        if len(parts) == 1:\n",
    "            continue\n",
    "        else:\n",
    "            # Test if it is preceded by alphanumeric characters\n",
    "            pre = parts[0][-1:]\n",
    "            if pre.isalnum():\n",
    "                continue\n",
    "                \n",
    "            for r in remainder:\n",
    "                if not parts[1].startswith(r):\n",
    "                    continue\n",
    "                post = parts[1][len(r):]\n",
    "                \n",
    "                # Test if it is followed by alphanumeric characters\n",
    "                if post[:1].isalnum():\n",
    "                    continue\n",
    "                \n",
    "                emoticon = self._process_ascii_emotes_fct(e + r)\n",
    "                if emoticon is not None:\n",
    "                    self.fixed_tokens.append(emoticon)\n",
    "                remaining = []\n",
    "                if len(pre) >= 2:\n",
    "                    remaining += self.process_ascii_emotes_token(pre)\n",
    "                else:\n",
    "                    remaining += pre\n",
    "                if len(post) >= 2:\n",
    "                    remaining += self.process_ascii_emotes_token(post)\n",
    "                else:\n",
    "                    remaining += post\n",
    "                return [s for s in parts if len(s) > 0]\n",
    "    return token\n",
    "\n",
    "@add_method(DefaultTokenizer)\n",
    "def process_ascii_emotes(self):\n",
    "    self._process_ascii_emotes_fct = _process_emotes_fct_selector[self.ascii_emotes_idx]\n",
    "    if self._process_ascii_emotes_fct is not None:\n",
    "        iterate_tokens(self.tokens, self.process_ascii_emotes_token)    \n",
    "            \n",
    "if RUN_SCRIPT:\n",
    "    run_and_compare(default_tokenizer, default_tokenizer.process_ascii_emotes, 'tokens', 'fixed_tokens', 'Input', 'Fixed Tokens')"
   ]
  },
  {
   "cell_type": "markdown",
   "metadata": {},
   "source": [
    "### Unicode Emoticons\n",
    "\n",
    "Supports the following options for `unicode_emotes`:\n",
    "- `skip`: this step will be skipped\n",
    "- `keep`: keeps every ASCII emoticon as it is, no further processing\n",
    "- `drop`: ompletely removes every ASCII emoticon from the text\n",
    "- `replace`: replaces with the emote token"
   ]
  },
  {
   "cell_type": "code",
   "execution_count": 6,
   "metadata": {},
   "outputs": [
    {
     "data": {
      "text/html": [
       "<table>\n",
       "            <tr>\n",
       "                <td>Input</td>\n",
       "                <td>Fixed Tokens</td>\n",
       "            </tr>\n",
       "            <tr>\n",
       "                <td>\n",
       "                    <textarea rows=\"20\" cols=\"80\" readonly>ASIAN; EXPORTERS; FEAR; DAMAGE; FROM; U.; S.-; JAPAN; RIFT; Mounting; trade; friction; between; the; U.; S.; And; Japan; has; raised; fears; among; many; of; Asia's; exporting; nations; that; the; row; could; inflict; far; -; reaching; economic; damage,; businessmen; and; officials; said.; They; told; Reuter; correspondents; in; Asian; capitals; a; U.; S.; Move; against; Japan; might; boost; protectionist; sentiment; in; the; U.; S.; And; lead; to; curbs; on; American; imports; of; their; products.; But; some; exporters; said; that; while; the; conflict; would; hurt; them; in; the; long; -; run,; in; the; short; -; term; Tokyo's; loss; might; be; their; gain.; The; U.; S.; Has; said; it; will; impose; 300; mln; dlrs; of; tariffs; on; imports; of; Japanese; electronics; goods; on; April; 17,; in; retaliation; for; Japan's; alleged; failure; to; stick; to; a; pact; not; to; sell; semiconductors; on; world; markets; at; below; cost.; Unofficial; Japanese; estimates; put; the; impact; of; the; tariffs; at; 10; billion; dlrs; and; spokesmen; for; major; electronics; firms; said; they; would; virtually; halt; exports; of; products; hit; by; the; new; taxes.; \"; We; wouldn't; be; able; to; do; business,\"; said; a; spokesman; for; leading; Japanese; electronics; firm; Matsushita; Electric; Industrial; Co; Ltd; &; lt; ;; MC.; T; >.; \"; If; the; tariffs; remain; in; place; for; any; length; of; time; beyond; a; few; months; it; will; mean; the; complete; erosion; of; exports; (of; goods; subject; to; tariffs); to; the; U.; S.,\"; said; Tom; Murtha,; a; stock; analyst; at; the; Tokyo; office; of; broker; &; lt; ;; James; Capel; and; Co; >.; In; Taiwan,; businessmen; and; officials; are; also; worried.; \"; We; are; aware; of; the; seriousness; of; the; U.; S.; Threat; against; Japan; because; it; serves; as; a; warning; to; us,\"; said; a; senior; Taiwanese; trade; official; who; asked; not; to; be; named.; Taiwan; had; a; trade; trade; surplus; of; 15.6; billion; dlrs; last; year,; 95; pct; of; it; with; the; U.; S.; The; surplus; helped; swell; Taiwan's; foreign; exchange; reserves; to; 53; billion; dlrs,; among; the; world's; largest.; \"; We; must; quickly; open; our; markets,; remove; trade; barriers; and; cut; import; tariffs; to; allow; imports; of; U.; S.; Products,; if; we; want; to; defuse; problems; from; possible; U.; S.; Retaliation,\"; said; Paul; Sheen,; chairman; of; textile; exporters; &; lt; ;; Taiwan; Safe; Group; >.; A; senior; official; of; South; Korea's; trade; promotion; association; said; the; trade; dispute; between; the; U.; S.; And; Japan; might; also; lead; to; pressure; on; South; Korea,; whose; chief; exports; are; similar; to; those; of; Japan.; Last; year; South; Korea; had; a; trade; surplus; of; 7.1; billion; dlrs; with; the; U.; S.,; Up; from; 4.9; billion; dlrs; in; 1985.; In; Malaysia,; trade; officers; and; businessmen; said; tough; curbs; against; Japan; might; allow; hard; -; hit; producers; of; semiconductors; in; third; countries; to; expand; their; sales; to; the; U.; S.; In; Hong; Kong,; where; newspapers; have; alleged; Japan; has; been; selling; below; -; cost; semiconductors,; some; electronics; manufacturers; share; that; view.; But; other; businessmen; said; such; a; short; -; term; commercial; advantage; would; be; outweighed; by; further; U.; S.; Pressure; to; block; imports.; \"; That; is; a; very; short; -; term; view,\"; said; Lawrence; Mills,; director; -; general; of; the; Federation; of; Hong; Kong; Industry.; \"; If; the; whole; purpose; is; to; prevent; imports,; one; day; it; will; be; extended; to; other; sources.; Much; more; serious; for; Hong; Kong; is; the; disadvantage; of; action; restraining; trade,\"; he; said.; The; U.; S.; Last; year; was; Hong; Kong's; biggest; export; market,; accounting; for; over; 30; pct; of; domestically; produced; exports.; The; Australian; government; is; awaiting; the; outcome; of; trade; talks; between; the; U.; S.; And; Japan; with; interest; and; concern,; Industry; Minister; John; Button; said; in; Canberra; last; Friday.; \"; This; kind; of; deterioration; in; trade; relations; between; two; countries; which; are; major; trading; partners; of; ours; is; a; very; serious; matter,\"; Button; said.; He; said; Australia's; concerns; centred; on; coal; and; beef,; Australia's; two; largest; exports; to; Japan; and; also; significant; U.; S.; Exports; to; that; country.; Meanwhile; U.; S.-; Japanese; diplomatic; manoeuvres; to; solve; the; trade; stand; -; off; continue.; Japan's; ruling; Liberal; Democratic; Party; yesterday; outlined; a; package; of; economic; measures; to; boost; the; Japanese; economy.; The; measures; proposed; include; a; large; supplementary; budget; and; record; public; works; spending; in; the; first; half; of; the; financial; year.; They; also; call; for; stepped; -; up; spending; as; an; emergency; measure; to; stimulate; the; economy; despite; Prime; Minister; Yasuhiro; Nakasone's; avowed; fiscal; reform; program.; Deputy; U.; S.; Trade; Representative; Michael; Smith; and; Makoto; Kuroda,; Japan's; deputy; minister; of; International; Trade; and; Industry; (MITI),; are; due; to; meet; in; Washington; this; week; in; an; effort; to; end; the; dispute.</textarea>\n",
       "                </td>\n",
       "                <td>\n",
       "                    <textarea rows=\"20\" cols=\"80\" readonly></textarea>\n",
       "                </td>\n",
       "            </tr>\n",
       "        </table>"
      ],
      "text/plain": [
       "<IPython.core.display.HTML object>"
      ]
     },
     "metadata": {},
     "output_type": "display_data"
    }
   ],
   "source": [
    "@add_method(DefaultTokenizer)\n",
    "def process_unicode_emotes_token(self, token):\n",
    "    tokens = []\n",
    "    new_token = ''\n",
    "    for c in token:\n",
    "        if c in emoji.UNICODE_EMOJI:\n",
    "            emoticon = self._process_ascii_emotes_fct(c)\n",
    "            if emoticon is not None:\n",
    "                self.fixed_tokens.append(emoticon)\n",
    "            if len(new_token) > 0:\n",
    "                tokens.append(new_token)\n",
    "                new_token = ''\n",
    "        else:\n",
    "            new_token += c\n",
    "    if len(tokens) == 0:\n",
    "        return new_token\n",
    "    return tokens + [new_token]\n",
    "    \n",
    "@add_method(DefaultTokenizer)\n",
    "def process_unicode_emoticons(self):\n",
    "    self._process_ascii_emotes_fct = _process_emotes_fct_selector[self.ascii_emotes_idx]\n",
    "    if self._process_ascii_emotes_fct is not None:\n",
    "        iterate_tokens(self.tokens, self.process_unicode_emotes_token) \n",
    "        \n",
    "if RUN_SCRIPT:\n",
    "    run_and_compare(default_tokenizer, default_tokenizer.process_unicode_emoticons, 'tokens', 'fixed_tokens', 'Input', 'Fixed Tokens')"
   ]
  },
  {
   "cell_type": "markdown",
   "metadata": {},
   "source": [
    "### Split Numbers\n",
    "\n",
    "This step splits words that consist of letters, special characters and numbers into distinct words.\n",
    "`,` and `.` are allowed to occur within numbers and do not lead to splitting up the string."
   ]
  },
  {
   "cell_type": "code",
   "execution_count": 7,
   "metadata": {},
   "outputs": [
    {
     "data": {
      "text/html": [
       "<table>\n",
       "            <tr>\n",
       "                <td>Before</td>\n",
       "                <td>After</td>\n",
       "            </tr>\n",
       "            <tr>\n",
       "                <td>\n",
       "                    <textarea rows=\"20\" cols=\"80\" readonly>ASIAN; EXPORTERS; FEAR; DAMAGE; FROM; U.; S.-; JAPAN; RIFT; Mounting; trade; friction; between; the; U.; S.; And; Japan; has; raised; fears; among; many; of; Asia's; exporting; nations; that; the; row; could; inflict; far; -; reaching; economic; damage,; businessmen; and; officials; said.; They; told; Reuter; correspondents; in; Asian; capitals; a; U.; S.; Move; against; Japan; might; boost; protectionist; sentiment; in; the; U.; S.; And; lead; to; curbs; on; American; imports; of; their; products.; But; some; exporters; said; that; while; the; conflict; would; hurt; them; in; the; long; -; run,; in; the; short; -; term; Tokyo's; loss; might; be; their; gain.; The; U.; S.; Has; said; it; will; impose; 300; mln; dlrs; of; tariffs; on; imports; of; Japanese; electronics; goods; on; April; 17,; in; retaliation; for; Japan's; alleged; failure; to; stick; to; a; pact; not; to; sell; semiconductors; on; world; markets; at; below; cost.; Unofficial; Japanese; estimates; put; the; impact; of; the; tariffs; at; 10; billion; dlrs; and; spokesmen; for; major; electronics; firms; said; they; would; virtually; halt; exports; of; products; hit; by; the; new; taxes.; \"; We; wouldn't; be; able; to; do; business,\"; said; a; spokesman; for; leading; Japanese; electronics; firm; Matsushita; Electric; Industrial; Co; Ltd; &; lt; ;; MC.; T; >.; \"; If; the; tariffs; remain; in; place; for; any; length; of; time; beyond; a; few; months; it; will; mean; the; complete; erosion; of; exports; (of; goods; subject; to; tariffs); to; the; U.; S.,\"; said; Tom; Murtha,; a; stock; analyst; at; the; Tokyo; office; of; broker; &; lt; ;; James; Capel; and; Co; >.; In; Taiwan,; businessmen; and; officials; are; also; worried.; \"; We; are; aware; of; the; seriousness; of; the; U.; S.; Threat; against; Japan; because; it; serves; as; a; warning; to; us,\"; said; a; senior; Taiwanese; trade; official; who; asked; not; to; be; named.; Taiwan; had; a; trade; trade; surplus; of; 15.6; billion; dlrs; last; year,; 95; pct; of; it; with; the; U.; S.; The; surplus; helped; swell; Taiwan's; foreign; exchange; reserves; to; 53; billion; dlrs,; among; the; world's; largest.; \"; We; must; quickly; open; our; markets,; remove; trade; barriers; and; cut; import; tariffs; to; allow; imports; of; U.; S.; Products,; if; we; want; to; defuse; problems; from; possible; U.; S.; Retaliation,\"; said; Paul; Sheen,; chairman; of; textile; exporters; &; lt; ;; Taiwan; Safe; Group; >.; A; senior; official; of; South; Korea's; trade; promotion; association; said; the; trade; dispute; between; the; U.; S.; And; Japan; might; also; lead; to; pressure; on; South; Korea,; whose; chief; exports; are; similar; to; those; of; Japan.; Last; year; South; Korea; had; a; trade; surplus; of; 7.1; billion; dlrs; with; the; U.; S.,; Up; from; 4.9; billion; dlrs; in; 1985.; In; Malaysia,; trade; officers; and; businessmen; said; tough; curbs; against; Japan; might; allow; hard; -; hit; producers; of; semiconductors; in; third; countries; to; expand; their; sales; to; the; U.; S.; In; Hong; Kong,; where; newspapers; have; alleged; Japan; has; been; selling; below; -; cost; semiconductors,; some; electronics; manufacturers; share; that; view.; But; other; businessmen; said; such; a; short; -; term; commercial; advantage; would; be; outweighed; by; further; U.; S.; Pressure; to; block; imports.; \"; That; is; a; very; short; -; term; view,\"; said; Lawrence; Mills,; director; -; general; of; the; Federation; of; Hong; Kong; Industry.; \"; If; the; whole; purpose; is; to; prevent; imports,; one; day; it; will; be; extended; to; other; sources.; Much; more; serious; for; Hong; Kong; is; the; disadvantage; of; action; restraining; trade,\"; he; said.; The; U.; S.; Last; year; was; Hong; Kong's; biggest; export; market,; accounting; for; over; 30; pct; of; domestically; produced; exports.; The; Australian; government; is; awaiting; the; outcome; of; trade; talks; between; the; U.; S.; And; Japan; with; interest; and; concern,; Industry; Minister; John; Button; said; in; Canberra; last; Friday.; \"; This; kind; of; deterioration; in; trade; relations; between; two; countries; which; are; major; trading; partners; of; ours; is; a; very; serious; matter,\"; Button; said.; He; said; Australia's; concerns; centred; on; coal; and; beef,; Australia's; two; largest; exports; to; Japan; and; also; significant; U.; S.; Exports; to; that; country.; Meanwhile; U.; S.-; Japanese; diplomatic; manoeuvres; to; solve; the; trade; stand; -; off; continue.; Japan's; ruling; Liberal; Democratic; Party; yesterday; outlined; a; package; of; economic; measures; to; boost; the; Japanese; economy.; The; measures; proposed; include; a; large; supplementary; budget; and; record; public; works; spending; in; the; first; half; of; the; financial; year.; They; also; call; for; stepped; -; up; spending; as; an; emergency; measure; to; stimulate; the; economy; despite; Prime; Minister; Yasuhiro; Nakasone's; avowed; fiscal; reform; program.; Deputy; U.; S.; Trade; Representative; Michael; Smith; and; Makoto; Kuroda,; Japan's; deputy; minister; of; International; Trade; and; Industry; (MITI),; are; due; to; meet; in; Washington; this; week; in; an; effort; to; end; the; dispute.</textarea>\n",
       "                </td>\n",
       "                <td>\n",
       "                    <textarea rows=\"20\" cols=\"80\" readonly>ASIAN; EXPORTERS; FEAR; DAMAGE; FROM; U.; S.-; JAPAN; RIFT; Mounting; trade; friction; between; the; U.; S.; And; Japan; has; raised; fears; among; many; of; Asia's; exporting; nations; that; the; row; could; inflict; far; -; reaching; economic; damage,; businessmen; and; officials; said.; They; told; Reuter; correspondents; in; Asian; capitals; a; U.; S.; Move; against; Japan; might; boost; protectionist; sentiment; in; the; U.; S.; And; lead; to; curbs; on; American; imports; of; their; products.; But; some; exporters; said; that; while; the; conflict; would; hurt; them; in; the; long; -; run,; in; the; short; -; term; Tokyo's; loss; might; be; their; gain.; The; U.; S.; Has; said; it; will; impose; 300; mln; dlrs; of; tariffs; on; imports; of; Japanese; electronics; goods; on; April; 17; ,; in; retaliation; for; Japan's; alleged; failure; to; stick; to; a; pact; not; to; sell; semiconductors; on; world; markets; at; below; cost.; Unofficial; Japanese; estimates; put; the; impact; of; the; tariffs; at; 10; billion; dlrs; and; spokesmen; for; major; electronics; firms; said; they; would; virtually; halt; exports; of; products; hit; by; the; new; taxes.; \"; We; wouldn't; be; able; to; do; business,\"; said; a; spokesman; for; leading; Japanese; electronics; firm; Matsushita; Electric; Industrial; Co; Ltd; &; lt; ;; MC.; T; >.; \"; If; the; tariffs; remain; in; place; for; any; length; of; time; beyond; a; few; months; it; will; mean; the; complete; erosion; of; exports; (of; goods; subject; to; tariffs); to; the; U.; S.,\"; said; Tom; Murtha,; a; stock; analyst; at; the; Tokyo; office; of; broker; &; lt; ;; James; Capel; and; Co; >.; In; Taiwan,; businessmen; and; officials; are; also; worried.; \"; We; are; aware; of; the; seriousness; of; the; U.; S.; Threat; against; Japan; because; it; serves; as; a; warning; to; us,\"; said; a; senior; Taiwanese; trade; official; who; asked; not; to; be; named.; Taiwan; had; a; trade; trade; surplus; of; 15.6; billion; dlrs; last; year,; 95; pct; of; it; with; the; U.; S.; The; surplus; helped; swell; Taiwan's; foreign; exchange; reserves; to; 53; billion; dlrs,; among; the; world's; largest.; \"; We; must; quickly; open; our; markets,; remove; trade; barriers; and; cut; import; tariffs; to; allow; imports; of; U.; S.; Products,; if; we; want; to; defuse; problems; from; possible; U.; S.; Retaliation,\"; said; Paul; Sheen,; chairman; of; textile; exporters; &; lt; ;; Taiwan; Safe; Group; >.; A; senior; official; of; South; Korea's; trade; promotion; association; said; the; trade; dispute; between; the; U.; S.; And; Japan; might; also; lead; to; pressure; on; South; Korea,; whose; chief; exports; are; similar; to; those; of; Japan.; Last; year; South; Korea; had; a; trade; surplus; of; 7.1; billion; dlrs; with; the; U.; S.,; Up; from; 4.9; billion; dlrs; in; 1985; .; In; Malaysia,; trade; officers; and; businessmen; said; tough; curbs; against; Japan; might; allow; hard; -; hit; producers; of; semiconductors; in; third; countries; to; expand; their; sales; to; the; U.; S.; In; Hong; Kong,; where; newspapers; have; alleged; Japan; has; been; selling; below; -; cost; semiconductors,; some; electronics; manufacturers; share; that; view.; But; other; businessmen; said; such; a; short; -; term; commercial; advantage; would; be; outweighed; by; further; U.; S.; Pressure; to; block; imports.; \"; That; is; a; very; short; -; term; view,\"; said; Lawrence; Mills,; director; -; general; of; the; Federation; of; Hong; Kong; Industry.; \"; If; the; whole; purpose; is; to; prevent; imports,; one; day; it; will; be; extended; to; other; sources.; Much; more; serious; for; Hong; Kong; is; the; disadvantage; of; action; restraining; trade,\"; he; said.; The; U.; S.; Last; year; was; Hong; Kong's; biggest; export; market,; accounting; for; over; 30; pct; of; domestically; produced; exports.; The; Australian; government; is; awaiting; the; outcome; of; trade; talks; between; the; U.; S.; And; Japan; with; interest; and; concern,; Industry; Minister; John; Button; said; in; Canberra; last; Friday.; \"; This; kind; of; deterioration; in; trade; relations; between; two; countries; which; are; major; trading; partners; of; ours; is; a; very; serious; matter,\"; Button; said.; He; said; Australia's; concerns; centred; on; coal; and; beef,; Australia's; two; largest; exports; to; Japan; and; also; significant; U.; S.; Exports; to; that; country.; Meanwhile; U.; S.-; Japanese; diplomatic; manoeuvres; to; solve; the; trade; stand; -; off; continue.; Japan's; ruling; Liberal; Democratic; Party; yesterday; outlined; a; package; of; economic; measures; to; boost; the; Japanese; economy.; The; measures; proposed; include; a; large; supplementary; budget; and; record; public; works; spending; in; the; first; half; of; the; financial; year.; They; also; call; for; stepped; -; up; spending; as; an; emergency; measure; to; stimulate; the; economy; despite; Prime; Minister; Yasuhiro; Nakasone's; avowed; fiscal; reform; program.; Deputy; U.; S.; Trade; Representative; Michael; Smith; and; Makoto; Kuroda,; Japan's; deputy; minister; of; International; Trade; and; Industry; (MITI),; are; due; to; meet; in; Washington; this; week; in; an; effort; to; end; the; dispute.</textarea>\n",
       "                </td>\n",
       "            </tr>\n",
       "        </table>"
      ],
      "text/plain": [
       "<IPython.core.display.HTML object>"
      ]
     },
     "metadata": {},
     "output_type": "display_data"
    }
   ],
   "source": [
    "dezimal_re = re.compile('([0-9]+(?:[,.]+[0-9,.]+)*)')\n",
    "\n",
    "@add_method(DefaultTokenizer)\n",
    "def split_numbers_token(self, token):\n",
    "    return [s for s in dezimal_re.split(token) if len(s) > 0]\n",
    "\n",
    "@add_method(DefaultTokenizer)\n",
    "def split_numbers(self):\n",
    "    if self.numbers_split:\n",
    "        iterate_tokens(self.tokens, self.split_numbers_token) \n",
    "        \n",
    "if RUN_SCRIPT:\n",
    "    run_and_compare(default_tokenizer, default_tokenizer.split_numbers, 'tokens')"
   ]
  },
  {
   "cell_type": "markdown",
   "metadata": {},
   "source": [
    "### Lowercase\n",
    "\n",
    "All letters are lowercased."
   ]
  },
  {
   "cell_type": "code",
   "execution_count": 8,
   "metadata": {},
   "outputs": [
    {
     "data": {
      "text/html": [
       "<table>\n",
       "            <tr>\n",
       "                <td>Before</td>\n",
       "                <td>After</td>\n",
       "            </tr>\n",
       "            <tr>\n",
       "                <td>\n",
       "                    <textarea rows=\"20\" cols=\"80\" readonly>ASIAN; EXPORTERS; FEAR; DAMAGE; FROM; U.; S.-; JAPAN; RIFT; Mounting; trade; friction; between; the; U.; S.; And; Japan; has; raised; fears; among; many; of; Asia's; exporting; nations; that; the; row; could; inflict; far; -; reaching; economic; damage,; businessmen; and; officials; said.; They; told; Reuter; correspondents; in; Asian; capitals; a; U.; S.; Move; against; Japan; might; boost; protectionist; sentiment; in; the; U.; S.; And; lead; to; curbs; on; American; imports; of; their; products.; But; some; exporters; said; that; while; the; conflict; would; hurt; them; in; the; long; -; run,; in; the; short; -; term; Tokyo's; loss; might; be; their; gain.; The; U.; S.; Has; said; it; will; impose; 300; mln; dlrs; of; tariffs; on; imports; of; Japanese; electronics; goods; on; April; 17; ,; in; retaliation; for; Japan's; alleged; failure; to; stick; to; a; pact; not; to; sell; semiconductors; on; world; markets; at; below; cost.; Unofficial; Japanese; estimates; put; the; impact; of; the; tariffs; at; 10; billion; dlrs; and; spokesmen; for; major; electronics; firms; said; they; would; virtually; halt; exports; of; products; hit; by; the; new; taxes.; \"; We; wouldn't; be; able; to; do; business,\"; said; a; spokesman; for; leading; Japanese; electronics; firm; Matsushita; Electric; Industrial; Co; Ltd; &; lt; ;; MC.; T; >.; \"; If; the; tariffs; remain; in; place; for; any; length; of; time; beyond; a; few; months; it; will; mean; the; complete; erosion; of; exports; (of; goods; subject; to; tariffs); to; the; U.; S.,\"; said; Tom; Murtha,; a; stock; analyst; at; the; Tokyo; office; of; broker; &; lt; ;; James; Capel; and; Co; >.; In; Taiwan,; businessmen; and; officials; are; also; worried.; \"; We; are; aware; of; the; seriousness; of; the; U.; S.; Threat; against; Japan; because; it; serves; as; a; warning; to; us,\"; said; a; senior; Taiwanese; trade; official; who; asked; not; to; be; named.; Taiwan; had; a; trade; trade; surplus; of; 15.6; billion; dlrs; last; year,; 95; pct; of; it; with; the; U.; S.; The; surplus; helped; swell; Taiwan's; foreign; exchange; reserves; to; 53; billion; dlrs,; among; the; world's; largest.; \"; We; must; quickly; open; our; markets,; remove; trade; barriers; and; cut; import; tariffs; to; allow; imports; of; U.; S.; Products,; if; we; want; to; defuse; problems; from; possible; U.; S.; Retaliation,\"; said; Paul; Sheen,; chairman; of; textile; exporters; &; lt; ;; Taiwan; Safe; Group; >.; A; senior; official; of; South; Korea's; trade; promotion; association; said; the; trade; dispute; between; the; U.; S.; And; Japan; might; also; lead; to; pressure; on; South; Korea,; whose; chief; exports; are; similar; to; those; of; Japan.; Last; year; South; Korea; had; a; trade; surplus; of; 7.1; billion; dlrs; with; the; U.; S.,; Up; from; 4.9; billion; dlrs; in; 1985; .; In; Malaysia,; trade; officers; and; businessmen; said; tough; curbs; against; Japan; might; allow; hard; -; hit; producers; of; semiconductors; in; third; countries; to; expand; their; sales; to; the; U.; S.; In; Hong; Kong,; where; newspapers; have; alleged; Japan; has; been; selling; below; -; cost; semiconductors,; some; electronics; manufacturers; share; that; view.; But; other; businessmen; said; such; a; short; -; term; commercial; advantage; would; be; outweighed; by; further; U.; S.; Pressure; to; block; imports.; \"; That; is; a; very; short; -; term; view,\"; said; Lawrence; Mills,; director; -; general; of; the; Federation; of; Hong; Kong; Industry.; \"; If; the; whole; purpose; is; to; prevent; imports,; one; day; it; will; be; extended; to; other; sources.; Much; more; serious; for; Hong; Kong; is; the; disadvantage; of; action; restraining; trade,\"; he; said.; The; U.; S.; Last; year; was; Hong; Kong's; biggest; export; market,; accounting; for; over; 30; pct; of; domestically; produced; exports.; The; Australian; government; is; awaiting; the; outcome; of; trade; talks; between; the; U.; S.; And; Japan; with; interest; and; concern,; Industry; Minister; John; Button; said; in; Canberra; last; Friday.; \"; This; kind; of; deterioration; in; trade; relations; between; two; countries; which; are; major; trading; partners; of; ours; is; a; very; serious; matter,\"; Button; said.; He; said; Australia's; concerns; centred; on; coal; and; beef,; Australia's; two; largest; exports; to; Japan; and; also; significant; U.; S.; Exports; to; that; country.; Meanwhile; U.; S.-; Japanese; diplomatic; manoeuvres; to; solve; the; trade; stand; -; off; continue.; Japan's; ruling; Liberal; Democratic; Party; yesterday; outlined; a; package; of; economic; measures; to; boost; the; Japanese; economy.; The; measures; proposed; include; a; large; supplementary; budget; and; record; public; works; spending; in; the; first; half; of; the; financial; year.; They; also; call; for; stepped; -; up; spending; as; an; emergency; measure; to; stimulate; the; economy; despite; Prime; Minister; Yasuhiro; Nakasone's; avowed; fiscal; reform; program.; Deputy; U.; S.; Trade; Representative; Michael; Smith; and; Makoto; Kuroda,; Japan's; deputy; minister; of; International; Trade; and; Industry; (MITI),; are; due; to; meet; in; Washington; this; week; in; an; effort; to; end; the; dispute.</textarea>\n",
       "                </td>\n",
       "                <td>\n",
       "                    <textarea rows=\"20\" cols=\"80\" readonly>asian; exporters; fear; damage; from; u.; s.-; japan; rift; mounting; trade; friction; between; the; u.; s.; and; japan; has; raised; fears; among; many; of; asia's; exporting; nations; that; the; row; could; inflict; far; -; reaching; economic; damage,; businessmen; and; officials; said.; they; told; reuter; correspondents; in; asian; capitals; a; u.; s.; move; against; japan; might; boost; protectionist; sentiment; in; the; u.; s.; and; lead; to; curbs; on; american; imports; of; their; products.; but; some; exporters; said; that; while; the; conflict; would; hurt; them; in; the; long; -; run,; in; the; short; -; term; tokyo's; loss; might; be; their; gain.; the; u.; s.; has; said; it; will; impose; 300; mln; dlrs; of; tariffs; on; imports; of; japanese; electronics; goods; on; april; 17; ,; in; retaliation; for; japan's; alleged; failure; to; stick; to; a; pact; not; to; sell; semiconductors; on; world; markets; at; below; cost.; unofficial; japanese; estimates; put; the; impact; of; the; tariffs; at; 10; billion; dlrs; and; spokesmen; for; major; electronics; firms; said; they; would; virtually; halt; exports; of; products; hit; by; the; new; taxes.; \"; we; wouldn't; be; able; to; do; business,\"; said; a; spokesman; for; leading; japanese; electronics; firm; matsushita; electric; industrial; co; ltd; &; lt; ;; mc.; t; >.; \"; if; the; tariffs; remain; in; place; for; any; length; of; time; beyond; a; few; months; it; will; mean; the; complete; erosion; of; exports; (of; goods; subject; to; tariffs); to; the; u.; s.,\"; said; tom; murtha,; a; stock; analyst; at; the; tokyo; office; of; broker; &; lt; ;; james; capel; and; co; >.; in; taiwan,; businessmen; and; officials; are; also; worried.; \"; we; are; aware; of; the; seriousness; of; the; u.; s.; threat; against; japan; because; it; serves; as; a; warning; to; us,\"; said; a; senior; taiwanese; trade; official; who; asked; not; to; be; named.; taiwan; had; a; trade; trade; surplus; of; 15.6; billion; dlrs; last; year,; 95; pct; of; it; with; the; u.; s.; the; surplus; helped; swell; taiwan's; foreign; exchange; reserves; to; 53; billion; dlrs,; among; the; world's; largest.; \"; we; must; quickly; open; our; markets,; remove; trade; barriers; and; cut; import; tariffs; to; allow; imports; of; u.; s.; products,; if; we; want; to; defuse; problems; from; possible; u.; s.; retaliation,\"; said; paul; sheen,; chairman; of; textile; exporters; &; lt; ;; taiwan; safe; group; >.; a; senior; official; of; south; korea's; trade; promotion; association; said; the; trade; dispute; between; the; u.; s.; and; japan; might; also; lead; to; pressure; on; south; korea,; whose; chief; exports; are; similar; to; those; of; japan.; last; year; south; korea; had; a; trade; surplus; of; 7.1; billion; dlrs; with; the; u.; s.,; up; from; 4.9; billion; dlrs; in; 1985; .; in; malaysia,; trade; officers; and; businessmen; said; tough; curbs; against; japan; might; allow; hard; -; hit; producers; of; semiconductors; in; third; countries; to; expand; their; sales; to; the; u.; s.; in; hong; kong,; where; newspapers; have; alleged; japan; has; been; selling; below; -; cost; semiconductors,; some; electronics; manufacturers; share; that; view.; but; other; businessmen; said; such; a; short; -; term; commercial; advantage; would; be; outweighed; by; further; u.; s.; pressure; to; block; imports.; \"; that; is; a; very; short; -; term; view,\"; said; lawrence; mills,; director; -; general; of; the; federation; of; hong; kong; industry.; \"; if; the; whole; purpose; is; to; prevent; imports,; one; day; it; will; be; extended; to; other; sources.; much; more; serious; for; hong; kong; is; the; disadvantage; of; action; restraining; trade,\"; he; said.; the; u.; s.; last; year; was; hong; kong's; biggest; export; market,; accounting; for; over; 30; pct; of; domestically; produced; exports.; the; australian; government; is; awaiting; the; outcome; of; trade; talks; between; the; u.; s.; and; japan; with; interest; and; concern,; industry; minister; john; button; said; in; canberra; last; friday.; \"; this; kind; of; deterioration; in; trade; relations; between; two; countries; which; are; major; trading; partners; of; ours; is; a; very; serious; matter,\"; button; said.; he; said; australia's; concerns; centred; on; coal; and; beef,; australia's; two; largest; exports; to; japan; and; also; significant; u.; s.; exports; to; that; country.; meanwhile; u.; s.-; japanese; diplomatic; manoeuvres; to; solve; the; trade; stand; -; off; continue.; japan's; ruling; liberal; democratic; party; yesterday; outlined; a; package; of; economic; measures; to; boost; the; japanese; economy.; the; measures; proposed; include; a; large; supplementary; budget; and; record; public; works; spending; in; the; first; half; of; the; financial; year.; they; also; call; for; stepped; -; up; spending; as; an; emergency; measure; to; stimulate; the; economy; despite; prime; minister; yasuhiro; nakasone's; avowed; fiscal; reform; program.; deputy; u.; s.; trade; representative; michael; smith; and; makoto; kuroda,; japan's; deputy; minister; of; international; trade; and; industry; (miti),; are; due; to; meet; in; washington; this; week; in; an; effort; to; end; the; dispute.</textarea>\n",
       "                </td>\n",
       "            </tr>\n",
       "        </table>"
      ],
      "text/plain": [
       "<IPython.core.display.HTML object>"
      ]
     },
     "metadata": {},
     "output_type": "display_data"
    }
   ],
   "source": [
    "@add_method(DefaultTokenizer)\n",
    "def process_lowercase_token(self, token):\n",
    "    return token.lower()\n",
    "\n",
    "@add_method(DefaultTokenizer)\n",
    "def process_lowercase(self):\n",
    "    if self.lowercase:\n",
    "        iterate_tokens(self.tokens, self.process_lowercase_token)\n",
    "        \n",
    "if RUN_SCRIPT:\n",
    "    run_and_compare(default_tokenizer, default_tokenizer.process_lowercase, 'tokens')"
   ]
  },
  {
   "cell_type": "markdown",
   "metadata": {},
   "source": [
    "### Remove non-ascii characters"
   ]
  },
  {
   "cell_type": "code",
   "execution_count": 9,
   "metadata": {},
   "outputs": [
    {
     "data": {
      "text/html": [
       "<table>\n",
       "            <tr>\n",
       "                <td>Before</td>\n",
       "                <td>After</td>\n",
       "            </tr>\n",
       "            <tr>\n",
       "                <td>\n",
       "                    <textarea rows=\"20\" cols=\"80\" readonly>asian; exporters; fear; damage; from; u.; s.-; japan; rift; mounting; trade; friction; between; the; u.; s.; and; japan; has; raised; fears; among; many; of; asia's; exporting; nations; that; the; row; could; inflict; far; -; reaching; economic; damage,; businessmen; and; officials; said.; they; told; reuter; correspondents; in; asian; capitals; a; u.; s.; move; against; japan; might; boost; protectionist; sentiment; in; the; u.; s.; and; lead; to; curbs; on; american; imports; of; their; products.; but; some; exporters; said; that; while; the; conflict; would; hurt; them; in; the; long; -; run,; in; the; short; -; term; tokyo's; loss; might; be; their; gain.; the; u.; s.; has; said; it; will; impose; 300; mln; dlrs; of; tariffs; on; imports; of; japanese; electronics; goods; on; april; 17; ,; in; retaliation; for; japan's; alleged; failure; to; stick; to; a; pact; not; to; sell; semiconductors; on; world; markets; at; below; cost.; unofficial; japanese; estimates; put; the; impact; of; the; tariffs; at; 10; billion; dlrs; and; spokesmen; for; major; electronics; firms; said; they; would; virtually; halt; exports; of; products; hit; by; the; new; taxes.; \"; we; wouldn't; be; able; to; do; business,\"; said; a; spokesman; for; leading; japanese; electronics; firm; matsushita; electric; industrial; co; ltd; &; lt; ;; mc.; t; >.; \"; if; the; tariffs; remain; in; place; for; any; length; of; time; beyond; a; few; months; it; will; mean; the; complete; erosion; of; exports; (of; goods; subject; to; tariffs); to; the; u.; s.,\"; said; tom; murtha,; a; stock; analyst; at; the; tokyo; office; of; broker; &; lt; ;; james; capel; and; co; >.; in; taiwan,; businessmen; and; officials; are; also; worried.; \"; we; are; aware; of; the; seriousness; of; the; u.; s.; threat; against; japan; because; it; serves; as; a; warning; to; us,\"; said; a; senior; taiwanese; trade; official; who; asked; not; to; be; named.; taiwan; had; a; trade; trade; surplus; of; 15.6; billion; dlrs; last; year,; 95; pct; of; it; with; the; u.; s.; the; surplus; helped; swell; taiwan's; foreign; exchange; reserves; to; 53; billion; dlrs,; among; the; world's; largest.; \"; we; must; quickly; open; our; markets,; remove; trade; barriers; and; cut; import; tariffs; to; allow; imports; of; u.; s.; products,; if; we; want; to; defuse; problems; from; possible; u.; s.; retaliation,\"; said; paul; sheen,; chairman; of; textile; exporters; &; lt; ;; taiwan; safe; group; >.; a; senior; official; of; south; korea's; trade; promotion; association; said; the; trade; dispute; between; the; u.; s.; and; japan; might; also; lead; to; pressure; on; south; korea,; whose; chief; exports; are; similar; to; those; of; japan.; last; year; south; korea; had; a; trade; surplus; of; 7.1; billion; dlrs; with; the; u.; s.,; up; from; 4.9; billion; dlrs; in; 1985; .; in; malaysia,; trade; officers; and; businessmen; said; tough; curbs; against; japan; might; allow; hard; -; hit; producers; of; semiconductors; in; third; countries; to; expand; their; sales; to; the; u.; s.; in; hong; kong,; where; newspapers; have; alleged; japan; has; been; selling; below; -; cost; semiconductors,; some; electronics; manufacturers; share; that; view.; but; other; businessmen; said; such; a; short; -; term; commercial; advantage; would; be; outweighed; by; further; u.; s.; pressure; to; block; imports.; \"; that; is; a; very; short; -; term; view,\"; said; lawrence; mills,; director; -; general; of; the; federation; of; hong; kong; industry.; \"; if; the; whole; purpose; is; to; prevent; imports,; one; day; it; will; be; extended; to; other; sources.; much; more; serious; for; hong; kong; is; the; disadvantage; of; action; restraining; trade,\"; he; said.; the; u.; s.; last; year; was; hong; kong's; biggest; export; market,; accounting; for; over; 30; pct; of; domestically; produced; exports.; the; australian; government; is; awaiting; the; outcome; of; trade; talks; between; the; u.; s.; and; japan; with; interest; and; concern,; industry; minister; john; button; said; in; canberra; last; friday.; \"; this; kind; of; deterioration; in; trade; relations; between; two; countries; which; are; major; trading; partners; of; ours; is; a; very; serious; matter,\"; button; said.; he; said; australia's; concerns; centred; on; coal; and; beef,; australia's; two; largest; exports; to; japan; and; also; significant; u.; s.; exports; to; that; country.; meanwhile; u.; s.-; japanese; diplomatic; manoeuvres; to; solve; the; trade; stand; -; off; continue.; japan's; ruling; liberal; democratic; party; yesterday; outlined; a; package; of; economic; measures; to; boost; the; japanese; economy.; the; measures; proposed; include; a; large; supplementary; budget; and; record; public; works; spending; in; the; first; half; of; the; financial; year.; they; also; call; for; stepped; -; up; spending; as; an; emergency; measure; to; stimulate; the; economy; despite; prime; minister; yasuhiro; nakasone's; avowed; fiscal; reform; program.; deputy; u.; s.; trade; representative; michael; smith; and; makoto; kuroda,; japan's; deputy; minister; of; international; trade; and; industry; (miti),; are; due; to; meet; in; washington; this; week; in; an; effort; to; end; the; dispute.</textarea>\n",
       "                </td>\n",
       "                <td>\n",
       "                    <textarea rows=\"20\" cols=\"80\" readonly>asian; exporters; fear; damage; from; u.; s.-; japan; rift; mounting; trade; friction; between; the; u.; s.; and; japan; has; raised; fears; among; many; of; asia's; exporting; nations; that; the; row; could; inflict; far; -; reaching; economic; damage,; businessmen; and; officials; said.; they; told; reuter; correspondents; in; asian; capitals; a; u.; s.; move; against; japan; might; boost; protectionist; sentiment; in; the; u.; s.; and; lead; to; curbs; on; american; imports; of; their; products.; but; some; exporters; said; that; while; the; conflict; would; hurt; them; in; the; long; -; run,; in; the; short; -; term; tokyo's; loss; might; be; their; gain.; the; u.; s.; has; said; it; will; impose; 300; mln; dlrs; of; tariffs; on; imports; of; japanese; electronics; goods; on; april; 17; ,; in; retaliation; for; japan's; alleged; failure; to; stick; to; a; pact; not; to; sell; semiconductors; on; world; markets; at; below; cost.; unofficial; japanese; estimates; put; the; impact; of; the; tariffs; at; 10; billion; dlrs; and; spokesmen; for; major; electronics; firms; said; they; would; virtually; halt; exports; of; products; hit; by; the; new; taxes.; \"; we; wouldn't; be; able; to; do; business,\"; said; a; spokesman; for; leading; japanese; electronics; firm; matsushita; electric; industrial; co; ltd; &; lt; ;; mc.; t; >.; \"; if; the; tariffs; remain; in; place; for; any; length; of; time; beyond; a; few; months; it; will; mean; the; complete; erosion; of; exports; (of; goods; subject; to; tariffs); to; the; u.; s.,\"; said; tom; murtha,; a; stock; analyst; at; the; tokyo; office; of; broker; &; lt; ;; james; capel; and; co; >.; in; taiwan,; businessmen; and; officials; are; also; worried.; \"; we; are; aware; of; the; seriousness; of; the; u.; s.; threat; against; japan; because; it; serves; as; a; warning; to; us,\"; said; a; senior; taiwanese; trade; official; who; asked; not; to; be; named.; taiwan; had; a; trade; trade; surplus; of; 15.6; billion; dlrs; last; year,; 95; pct; of; it; with; the; u.; s.; the; surplus; helped; swell; taiwan's; foreign; exchange; reserves; to; 53; billion; dlrs,; among; the; world's; largest.; \"; we; must; quickly; open; our; markets,; remove; trade; barriers; and; cut; import; tariffs; to; allow; imports; of; u.; s.; products,; if; we; want; to; defuse; problems; from; possible; u.; s.; retaliation,\"; said; paul; sheen,; chairman; of; textile; exporters; &; lt; ;; taiwan; safe; group; >.; a; senior; official; of; south; korea's; trade; promotion; association; said; the; trade; dispute; between; the; u.; s.; and; japan; might; also; lead; to; pressure; on; south; korea,; whose; chief; exports; are; similar; to; those; of; japan.; last; year; south; korea; had; a; trade; surplus; of; 7.1; billion; dlrs; with; the; u.; s.,; up; from; 4.9; billion; dlrs; in; 1985; .; in; malaysia,; trade; officers; and; businessmen; said; tough; curbs; against; japan; might; allow; hard; -; hit; producers; of; semiconductors; in; third; countries; to; expand; their; sales; to; the; u.; s.; in; hong; kong,; where; newspapers; have; alleged; japan; has; been; selling; below; -; cost; semiconductors,; some; electronics; manufacturers; share; that; view.; but; other; businessmen; said; such; a; short; -; term; commercial; advantage; would; be; outweighed; by; further; u.; s.; pressure; to; block; imports.; \"; that; is; a; very; short; -; term; view,\"; said; lawrence; mills,; director; -; general; of; the; federation; of; hong; kong; industry.; \"; if; the; whole; purpose; is; to; prevent; imports,; one; day; it; will; be; extended; to; other; sources.; much; more; serious; for; hong; kong; is; the; disadvantage; of; action; restraining; trade,\"; he; said.; the; u.; s.; last; year; was; hong; kong's; biggest; export; market,; accounting; for; over; 30; pct; of; domestically; produced; exports.; the; australian; government; is; awaiting; the; outcome; of; trade; talks; between; the; u.; s.; and; japan; with; interest; and; concern,; industry; minister; john; button; said; in; canberra; last; friday.; \"; this; kind; of; deterioration; in; trade; relations; between; two; countries; which; are; major; trading; partners; of; ours; is; a; very; serious; matter,\"; button; said.; he; said; australia's; concerns; centred; on; coal; and; beef,; australia's; two; largest; exports; to; japan; and; also; significant; u.; s.; exports; to; that; country.; meanwhile; u.; s.-; japanese; diplomatic; manoeuvres; to; solve; the; trade; stand; -; off; continue.; japan's; ruling; liberal; democratic; party; yesterday; outlined; a; package; of; economic; measures; to; boost; the; japanese; economy.; the; measures; proposed; include; a; large; supplementary; budget; and; record; public; works; spending; in; the; first; half; of; the; financial; year.; they; also; call; for; stepped; -; up; spending; as; an; emergency; measure; to; stimulate; the; economy; despite; prime; minister; yasuhiro; nakasone's; avowed; fiscal; reform; program.; deputy; u.; s.; trade; representative; michael; smith; and; makoto; kuroda,; japan's; deputy; minister; of; international; trade; and; industry; (miti),; are; due; to; meet; in; washington; this; week; in; an; effort; to; end; the; dispute.</textarea>\n",
       "                </td>\n",
       "            </tr>\n",
       "        </table>"
      ],
      "text/plain": [
       "<IPython.core.display.HTML object>"
      ]
     },
     "metadata": {},
     "output_type": "display_data"
    }
   ],
   "source": [
    "@add_method(DefaultTokenizer)\n",
    "def remove_nonascii_token(self, token):\n",
    "    return token.encode('ascii',errors='ignore').decode()\n",
    "\n",
    "@add_method(DefaultTokenizer)\n",
    "def remove_nonascii(self):\n",
    "    if self.ascii_only:\n",
    "        iterate_tokens(self.tokens, self.remove_nonascii_token)\n",
    "        \n",
    "if RUN_SCRIPT:\n",
    "    run_and_compare(default_tokenizer, default_tokenizer.remove_nonascii, 'tokens')"
   ]
  },
  {
   "cell_type": "markdown",
   "metadata": {},
   "source": [
    "### Remove Non-alphanumeric characters\n",
    "\n",
    "Removes non alphanumeric characters. Possible options for `alnum_only` are:\n",
    "- `skip`: Retains all characters\n",
    "- `weak`: Retains `'`, `@`, `#`, and `_`\n",
    "- `apostrophe`: Retains `'`\n",
    "- `strict`: Removed all characters except `a-z`, `A-Z` and `0-9`"
   ]
  },
  {
   "cell_type": "code",
   "execution_count": 10,
   "metadata": {},
   "outputs": [
    {
     "data": {
      "text/html": [
       "<table>\n",
       "            <tr>\n",
       "                <td>Before</td>\n",
       "                <td>After</td>\n",
       "            </tr>\n",
       "            <tr>\n",
       "                <td>\n",
       "                    <textarea rows=\"20\" cols=\"80\" readonly>asian; exporters; fear; damage; from; u.; s.-; japan; rift; mounting; trade; friction; between; the; u.; s.; and; japan; has; raised; fears; among; many; of; asia's; exporting; nations; that; the; row; could; inflict; far; -; reaching; economic; damage,; businessmen; and; officials; said.; they; told; reuter; correspondents; in; asian; capitals; a; u.; s.; move; against; japan; might; boost; protectionist; sentiment; in; the; u.; s.; and; lead; to; curbs; on; american; imports; of; their; products.; but; some; exporters; said; that; while; the; conflict; would; hurt; them; in; the; long; -; run,; in; the; short; -; term; tokyo's; loss; might; be; their; gain.; the; u.; s.; has; said; it; will; impose; 300; mln; dlrs; of; tariffs; on; imports; of; japanese; electronics; goods; on; april; 17; ,; in; retaliation; for; japan's; alleged; failure; to; stick; to; a; pact; not; to; sell; semiconductors; on; world; markets; at; below; cost.; unofficial; japanese; estimates; put; the; impact; of; the; tariffs; at; 10; billion; dlrs; and; spokesmen; for; major; electronics; firms; said; they; would; virtually; halt; exports; of; products; hit; by; the; new; taxes.; \"; we; wouldn't; be; able; to; do; business,\"; said; a; spokesman; for; leading; japanese; electronics; firm; matsushita; electric; industrial; co; ltd; &; lt; ;; mc.; t; >.; \"; if; the; tariffs; remain; in; place; for; any; length; of; time; beyond; a; few; months; it; will; mean; the; complete; erosion; of; exports; (of; goods; subject; to; tariffs); to; the; u.; s.,\"; said; tom; murtha,; a; stock; analyst; at; the; tokyo; office; of; broker; &; lt; ;; james; capel; and; co; >.; in; taiwan,; businessmen; and; officials; are; also; worried.; \"; we; are; aware; of; the; seriousness; of; the; u.; s.; threat; against; japan; because; it; serves; as; a; warning; to; us,\"; said; a; senior; taiwanese; trade; official; who; asked; not; to; be; named.; taiwan; had; a; trade; trade; surplus; of; 15.6; billion; dlrs; last; year,; 95; pct; of; it; with; the; u.; s.; the; surplus; helped; swell; taiwan's; foreign; exchange; reserves; to; 53; billion; dlrs,; among; the; world's; largest.; \"; we; must; quickly; open; our; markets,; remove; trade; barriers; and; cut; import; tariffs; to; allow; imports; of; u.; s.; products,; if; we; want; to; defuse; problems; from; possible; u.; s.; retaliation,\"; said; paul; sheen,; chairman; of; textile; exporters; &; lt; ;; taiwan; safe; group; >.; a; senior; official; of; south; korea's; trade; promotion; association; said; the; trade; dispute; between; the; u.; s.; and; japan; might; also; lead; to; pressure; on; south; korea,; whose; chief; exports; are; similar; to; those; of; japan.; last; year; south; korea; had; a; trade; surplus; of; 7.1; billion; dlrs; with; the; u.; s.,; up; from; 4.9; billion; dlrs; in; 1985; .; in; malaysia,; trade; officers; and; businessmen; said; tough; curbs; against; japan; might; allow; hard; -; hit; producers; of; semiconductors; in; third; countries; to; expand; their; sales; to; the; u.; s.; in; hong; kong,; where; newspapers; have; alleged; japan; has; been; selling; below; -; cost; semiconductors,; some; electronics; manufacturers; share; that; view.; but; other; businessmen; said; such; a; short; -; term; commercial; advantage; would; be; outweighed; by; further; u.; s.; pressure; to; block; imports.; \"; that; is; a; very; short; -; term; view,\"; said; lawrence; mills,; director; -; general; of; the; federation; of; hong; kong; industry.; \"; if; the; whole; purpose; is; to; prevent; imports,; one; day; it; will; be; extended; to; other; sources.; much; more; serious; for; hong; kong; is; the; disadvantage; of; action; restraining; trade,\"; he; said.; the; u.; s.; last; year; was; hong; kong's; biggest; export; market,; accounting; for; over; 30; pct; of; domestically; produced; exports.; the; australian; government; is; awaiting; the; outcome; of; trade; talks; between; the; u.; s.; and; japan; with; interest; and; concern,; industry; minister; john; button; said; in; canberra; last; friday.; \"; this; kind; of; deterioration; in; trade; relations; between; two; countries; which; are; major; trading; partners; of; ours; is; a; very; serious; matter,\"; button; said.; he; said; australia's; concerns; centred; on; coal; and; beef,; australia's; two; largest; exports; to; japan; and; also; significant; u.; s.; exports; to; that; country.; meanwhile; u.; s.-; japanese; diplomatic; manoeuvres; to; solve; the; trade; stand; -; off; continue.; japan's; ruling; liberal; democratic; party; yesterday; outlined; a; package; of; economic; measures; to; boost; the; japanese; economy.; the; measures; proposed; include; a; large; supplementary; budget; and; record; public; works; spending; in; the; first; half; of; the; financial; year.; they; also; call; for; stepped; -; up; spending; as; an; emergency; measure; to; stimulate; the; economy; despite; prime; minister; yasuhiro; nakasone's; avowed; fiscal; reform; program.; deputy; u.; s.; trade; representative; michael; smith; and; makoto; kuroda,; japan's; deputy; minister; of; international; trade; and; industry; (miti),; are; due; to; meet; in; washington; this; week; in; an; effort; to; end; the; dispute.</textarea>\n",
       "                </td>\n",
       "                <td>\n",
       "                    <textarea rows=\"20\" cols=\"80\" readonly>asian; exporters; fear; damage; from; u; s; japan; rift; mounting; trade; friction; between; the; u; s; and; japan; has; raised; fears; among; many; of; asia's; exporting; nations; that; the; row; could; inflict; far; reaching; economic; damage; businessmen; and; officials; said; they; told; reuter; correspondents; in; asian; capitals; a; u; s; move; against; japan; might; boost; protectionist; sentiment; in; the; u; s; and; lead; to; curbs; on; american; imports; of; their; products; but; some; exporters; said; that; while; the; conflict; would; hurt; them; in; the; long; run; in; the; short; term; tokyo's; loss; might; be; their; gain; the; u; s; has; said; it; will; impose; 300; mln; dlrs; of; tariffs; on; imports; of; japanese; electronics; goods; on; april; 17; in; retaliation; for; japan's; alleged; failure; to; stick; to; a; pact; not; to; sell; semiconductors; on; world; markets; at; below; cost; unofficial; japanese; estimates; put; the; impact; of; the; tariffs; at; 10; billion; dlrs; and; spokesmen; for; major; electronics; firms; said; they; would; virtually; halt; exports; of; products; hit; by; the; new; taxes; we; wouldn't; be; able; to; do; business; said; a; spokesman; for; leading; japanese; electronics; firm; matsushita; electric; industrial; co; ltd; lt; mc; t; if; the; tariffs; remain; in; place; for; any; length; of; time; beyond; a; few; months; it; will; mean; the; complete; erosion; of; exports; of; goods; subject; to; tariffs; to; the; u; s; said; tom; murtha; a; stock; analyst; at; the; tokyo; office; of; broker; lt; james; capel; and; co; in; taiwan; businessmen; and; officials; are; also; worried; we; are; aware; of; the; seriousness; of; the; u; s; threat; against; japan; because; it; serves; as; a; warning; to; us; said; a; senior; taiwanese; trade; official; who; asked; not; to; be; named; taiwan; had; a; trade; trade; surplus; of; 15; 6; billion; dlrs; last; year; 95; pct; of; it; with; the; u; s; the; surplus; helped; swell; taiwan's; foreign; exchange; reserves; to; 53; billion; dlrs; among; the; world's; largest; we; must; quickly; open; our; markets; remove; trade; barriers; and; cut; import; tariffs; to; allow; imports; of; u; s; products; if; we; want; to; defuse; problems; from; possible; u; s; retaliation; said; paul; sheen; chairman; of; textile; exporters; lt; taiwan; safe; group; a; senior; official; of; south; korea's; trade; promotion; association; said; the; trade; dispute; between; the; u; s; and; japan; might; also; lead; to; pressure; on; south; korea; whose; chief; exports; are; similar; to; those; of; japan; last; year; south; korea; had; a; trade; surplus; of; 7; 1; billion; dlrs; with; the; u; s; up; from; 4; 9; billion; dlrs; in; 1985; in; malaysia; trade; officers; and; businessmen; said; tough; curbs; against; japan; might; allow; hard; hit; producers; of; semiconductors; in; third; countries; to; expand; their; sales; to; the; u; s; in; hong; kong; where; newspapers; have; alleged; japan; has; been; selling; below; cost; semiconductors; some; electronics; manufacturers; share; that; view; but; other; businessmen; said; such; a; short; term; commercial; advantage; would; be; outweighed; by; further; u; s; pressure; to; block; imports; that; is; a; very; short; term; view; said; lawrence; mills; director; general; of; the; federation; of; hong; kong; industry; if; the; whole; purpose; is; to; prevent; imports; one; day; it; will; be; extended; to; other; sources; much; more; serious; for; hong; kong; is; the; disadvantage; of; action; restraining; trade; he; said; the; u; s; last; year; was; hong; kong's; biggest; export; market; accounting; for; over; 30; pct; of; domestically; produced; exports; the; australian; government; is; awaiting; the; outcome; of; trade; talks; between; the; u; s; and; japan; with; interest; and; concern; industry; minister; john; button; said; in; canberra; last; friday; this; kind; of; deterioration; in; trade; relations; between; two; countries; which; are; major; trading; partners; of; ours; is; a; very; serious; matter; button; said; he; said; australia's; concerns; centred; on; coal; and; beef; australia's; two; largest; exports; to; japan; and; also; significant; u; s; exports; to; that; country; meanwhile; u; s; japanese; diplomatic; manoeuvres; to; solve; the; trade; stand; off; continue; japan's; ruling; liberal; democratic; party; yesterday; outlined; a; package; of; economic; measures; to; boost; the; japanese; economy; the; measures; proposed; include; a; large; supplementary; budget; and; record; public; works; spending; in; the; first; half; of; the; financial; year; they; also; call; for; stepped; up; spending; as; an; emergency; measure; to; stimulate; the; economy; despite; prime; minister; yasuhiro; nakasone's; avowed; fiscal; reform; program; deputy; u; s; trade; representative; michael; smith; and; makoto; kuroda; japan's; deputy; minister; of; international; trade; and; industry; miti; are; due; to; meet; in; washington; this; week; in; an; effort; to; end; the; dispute</textarea>\n",
       "                </td>\n",
       "            </tr>\n",
       "        </table>"
      ],
      "text/plain": [
       "<IPython.core.display.HTML object>"
      ]
     },
     "metadata": {},
     "output_type": "display_data"
    }
   ],
   "source": [
    "_remove_nonalnum_re_selector = [\n",
    "    None,\n",
    "    re.compile('[^a-zA-Z0-9\\'@#_]'),\n",
    "    re.compile('[^a-zA-Z0-9\\']'),\n",
    "    re.compile('[^a-zA-Z0-9]')]\n",
    "\n",
    "@add_method(DefaultTokenizer)\n",
    "def remove_nonalnum_token(self, token):\n",
    "    return [s \n",
    "            for s in _remove_nonalnum_re_selector[self.alnum_only_idx].split(token) \n",
    "            if len(s) > 0]\n",
    "\n",
    "@add_method(DefaultTokenizer)\n",
    "def remove_nonalnum(self):\n",
    "    if self.alnum_only:\n",
    "        iterate_tokens(self.tokens, self.remove_nonalnum_token)\n",
    "    \n",
    "if RUN_SCRIPT:\n",
    "    run_and_compare(default_tokenizer, default_tokenizer.remove_nonalnum, 'tokens')"
   ]
  },
  {
   "cell_type": "markdown",
   "metadata": {},
   "source": [
    "### Replace Numbers\n",
    "\n",
    "Replace numbers by number tokens. Supports the following options for `numbers`:\n",
    "- `skip`: \n",
    "Either replace each single digit by a token or replace the whole number (possibly including `.` and `,`) by a single token."
   ]
  },
  {
   "cell_type": "code",
   "execution_count": 11,
   "metadata": {},
   "outputs": [
    {
     "data": {
      "text/html": [
       "<table>\n",
       "            <tr>\n",
       "                <td>Before</td>\n",
       "                <td>After</td>\n",
       "            </tr>\n",
       "            <tr>\n",
       "                <td>\n",
       "                    <textarea rows=\"20\" cols=\"80\" readonly>asian; exporters; fear; damage; from; u; s; japan; rift; mounting; trade; friction; between; the; u; s; and; japan; has; raised; fears; among; many; of; asia's; exporting; nations; that; the; row; could; inflict; far; reaching; economic; damage; businessmen; and; officials; said; they; told; reuter; correspondents; in; asian; capitals; a; u; s; move; against; japan; might; boost; protectionist; sentiment; in; the; u; s; and; lead; to; curbs; on; american; imports; of; their; products; but; some; exporters; said; that; while; the; conflict; would; hurt; them; in; the; long; run; in; the; short; term; tokyo's; loss; might; be; their; gain; the; u; s; has; said; it; will; impose; 300; mln; dlrs; of; tariffs; on; imports; of; japanese; electronics; goods; on; april; 17; in; retaliation; for; japan's; alleged; failure; to; stick; to; a; pact; not; to; sell; semiconductors; on; world; markets; at; below; cost; unofficial; japanese; estimates; put; the; impact; of; the; tariffs; at; 10; billion; dlrs; and; spokesmen; for; major; electronics; firms; said; they; would; virtually; halt; exports; of; products; hit; by; the; new; taxes; we; wouldn't; be; able; to; do; business; said; a; spokesman; for; leading; japanese; electronics; firm; matsushita; electric; industrial; co; ltd; lt; mc; t; if; the; tariffs; remain; in; place; for; any; length; of; time; beyond; a; few; months; it; will; mean; the; complete; erosion; of; exports; of; goods; subject; to; tariffs; to; the; u; s; said; tom; murtha; a; stock; analyst; at; the; tokyo; office; of; broker; lt; james; capel; and; co; in; taiwan; businessmen; and; officials; are; also; worried; we; are; aware; of; the; seriousness; of; the; u; s; threat; against; japan; because; it; serves; as; a; warning; to; us; said; a; senior; taiwanese; trade; official; who; asked; not; to; be; named; taiwan; had; a; trade; trade; surplus; of; 15; 6; billion; dlrs; last; year; 95; pct; of; it; with; the; u; s; the; surplus; helped; swell; taiwan's; foreign; exchange; reserves; to; 53; billion; dlrs; among; the; world's; largest; we; must; quickly; open; our; markets; remove; trade; barriers; and; cut; import; tariffs; to; allow; imports; of; u; s; products; if; we; want; to; defuse; problems; from; possible; u; s; retaliation; said; paul; sheen; chairman; of; textile; exporters; lt; taiwan; safe; group; a; senior; official; of; south; korea's; trade; promotion; association; said; the; trade; dispute; between; the; u; s; and; japan; might; also; lead; to; pressure; on; south; korea; whose; chief; exports; are; similar; to; those; of; japan; last; year; south; korea; had; a; trade; surplus; of; 7; 1; billion; dlrs; with; the; u; s; up; from; 4; 9; billion; dlrs; in; 1985; in; malaysia; trade; officers; and; businessmen; said; tough; curbs; against; japan; might; allow; hard; hit; producers; of; semiconductors; in; third; countries; to; expand; their; sales; to; the; u; s; in; hong; kong; where; newspapers; have; alleged; japan; has; been; selling; below; cost; semiconductors; some; electronics; manufacturers; share; that; view; but; other; businessmen; said; such; a; short; term; commercial; advantage; would; be; outweighed; by; further; u; s; pressure; to; block; imports; that; is; a; very; short; term; view; said; lawrence; mills; director; general; of; the; federation; of; hong; kong; industry; if; the; whole; purpose; is; to; prevent; imports; one; day; it; will; be; extended; to; other; sources; much; more; serious; for; hong; kong; is; the; disadvantage; of; action; restraining; trade; he; said; the; u; s; last; year; was; hong; kong's; biggest; export; market; accounting; for; over; 30; pct; of; domestically; produced; exports; the; australian; government; is; awaiting; the; outcome; of; trade; talks; between; the; u; s; and; japan; with; interest; and; concern; industry; minister; john; button; said; in; canberra; last; friday; this; kind; of; deterioration; in; trade; relations; between; two; countries; which; are; major; trading; partners; of; ours; is; a; very; serious; matter; button; said; he; said; australia's; concerns; centred; on; coal; and; beef; australia's; two; largest; exports; to; japan; and; also; significant; u; s; exports; to; that; country; meanwhile; u; s; japanese; diplomatic; manoeuvres; to; solve; the; trade; stand; off; continue; japan's; ruling; liberal; democratic; party; yesterday; outlined; a; package; of; economic; measures; to; boost; the; japanese; economy; the; measures; proposed; include; a; large; supplementary; budget; and; record; public; works; spending; in; the; first; half; of; the; financial; year; they; also; call; for; stepped; up; spending; as; an; emergency; measure; to; stimulate; the; economy; despite; prime; minister; yasuhiro; nakasone's; avowed; fiscal; reform; program; deputy; u; s; trade; representative; michael; smith; and; makoto; kuroda; japan's; deputy; minister; of; international; trade; and; industry; miti; are; due; to; meet; in; washington; this; week; in; an; effort; to; end; the; dispute</textarea>\n",
       "                </td>\n",
       "                <td>\n",
       "                    <textarea rows=\"20\" cols=\"80\" readonly></textarea>\n",
       "                </td>\n",
       "            </tr>\n",
       "        </table>"
      ],
      "text/plain": [
       "<IPython.core.display.HTML object>"
      ]
     },
     "metadata": {},
     "output_type": "display_data"
    }
   ],
   "source": [
    "_re_numbers_decimal  = re.compile(\"[0-9]\")\n",
    "_re_numbers_complete = re.compile(\"([0-9][0-9\\.,]*)|([0-9\\.,]*[0-9])\")\n",
    "_replace_numbers_re_selector = [None,\n",
    "    _re_numbers_decimal,\n",
    "    _re_numbers_complete,\n",
    "    _re_numbers_complete]\n",
    "_replace_numbers_sub_selector = [None,\n",
    "    tokenizer.common.number_token,\n",
    "    tokenizer.common.number_token,\n",
    "    '']\n",
    "\n",
    "@add_method(DefaultTokenizer)\n",
    "def replace_numbers_token(self, token):\n",
    "    token, count = self._replace_numbers_re.subn(self._replace_numbers_sub, token)\n",
    "    if count > 0:\n",
    "        self.fixed_tokens.append(token)\n",
    "        return None\n",
    "    return token\n",
    "\n",
    "@add_method(DefaultTokenizer)\n",
    "def replace_numbers(self):\n",
    "    if self.numbers_idx > 0:\n",
    "        self._replace_numbers_re= _replace_numbers_re_selector[self.numbers_idx]\n",
    "        self._replace_numbers_sub = _replace_numbers_sub_selector[self.numbers_idx]\n",
    "        iterate_tokens(self.tokens, self.replace_numbers_token)\n",
    "        \n",
    "if RUN_SCRIPT: \n",
    "    run_and_compare(default_tokenizer, default_tokenizer.replace_numbers, 'tokens', 'fixed_tokens')"
   ]
  },
  {
   "cell_type": "markdown",
   "metadata": {},
   "source": [
    "---\n",
    "## Complete function\n",
    "---"
   ]
  },
  {
   "cell_type": "code",
   "execution_count": 12,
   "metadata": {},
   "outputs": [],
   "source": [
    "@add_method(DefaultTokenizer)\n",
    "def tokenize(self, text, *args):\n",
    "    self.init_tokenization(text)\n",
    "    self.process_urls()\n",
    "    self.process_ascii_emotes()\n",
    "    self.process_unicode_emoticons()\n",
    "    self.split_numbers()\n",
    "    self.process_lowercase()\n",
    "    self.remove_nonascii()\n",
    "    self.remove_nonalnum()\n",
    "    self.replace_numbers()\n",
    "    self.tokens = self.tokens + self.fixed_tokens\n",
    "    return self.tokens"
   ]
  },
  {
   "cell_type": "markdown",
   "metadata": {},
   "source": [
    "## Test tokenizer"
   ]
  },
  {
   "cell_type": "code",
   "execution_count": 13,
   "metadata": {},
   "outputs": [
    {
     "data": {
      "text/html": [
       "<table>\n",
       "            <tr>\n",
       "                <td>Text</td>\n",
       "                <td>Tokens</td>\n",
       "            </tr>\n",
       "            <tr>\n",
       "                <td>\n",
       "                    <textarea rows=\"20\" cols=\"80\" readonly>ASIAN EXPORTERS FEAR DAMAGE FROM U. S.- JAPAN RIFT Mounting trade friction between the U. S. And Japan has raised fears among many of Asia's exporting nations that the row could inflict far - reaching economic damage, businessmen and officials said. They told Reuter correspondents in Asian capitals a U. S. Move against Japan might boost protectionist sentiment in the U. S. And lead to curbs on American imports of their products. But some exporters said that while the conflict would hurt them in the long - run, in the short - term Tokyo's loss might be their gain. The U. S. Has said it will impose 300 mln dlrs of tariffs on imports of Japanese electronics goods on April 17, in retaliation for Japan's alleged failure to stick to a pact not to sell semiconductors on world markets at below cost. Unofficial Japanese estimates put the impact of the tariffs at 10 billion dlrs and spokesmen for major electronics firms said they would virtually halt exports of products hit by the new taxes. \" We wouldn't be able to do business,\" said a spokesman for leading Japanese electronics firm Matsushita Electric Industrial Co Ltd & lt , MC. T >. \" If the tariffs remain in place for any length of time beyond a few months it will mean the complete erosion of exports (of goods subject to tariffs) to the U. S.,\" said Tom Murtha, a stock analyst at the Tokyo office of broker & lt , James Capel and Co >. In Taiwan, businessmen and officials are also worried. \" We are aware of the seriousness of the U. S. Threat against Japan because it serves as a warning to us,\" said a senior Taiwanese trade official who asked not to be named. Taiwan had a trade trade surplus of 15.6 billion dlrs last year, 95 pct of it with the U. S. The surplus helped swell Taiwan's foreign exchange reserves to 53 billion dlrs, among the world's largest. \" We must quickly open our markets, remove trade barriers and cut import tariffs to allow imports of U. S. Products, if we want to defuse problems from possible U. S. Retaliation,\" said Paul Sheen, chairman of textile exporters & lt , Taiwan Safe Group >. A senior official of South Korea's trade promotion association said the trade dispute between the U. S. And Japan might also lead to pressure on South Korea, whose chief exports are similar to those of Japan. Last year South Korea had a trade surplus of 7.1 billion dlrs with the U. S., Up from 4.9 billion dlrs in 1985. In Malaysia, trade officers and businessmen said tough curbs against Japan might allow hard - hit producers of semiconductors in third countries to expand their sales to the U. S. In Hong Kong, where newspapers have alleged Japan has been selling below - cost semiconductors, some electronics manufacturers share that view. But other businessmen said such a short - term commercial advantage would be outweighed by further U. S. Pressure to block imports. \" That is a very short - term view,\" said Lawrence Mills, director - general of the Federation of Hong Kong Industry. \" If the whole purpose is to prevent imports, one day it will be extended to other sources. Much more serious for Hong Kong is the disadvantage of action restraining trade,\" he said. The U. S. Last year was Hong Kong's biggest export market, accounting for over 30 pct of domestically produced exports. The Australian government is awaiting the outcome of trade talks between the U. S. And Japan with interest and concern, Industry Minister John Button said in Canberra last Friday. \" This kind of deterioration in trade relations between two countries which are major trading partners of ours is a very serious matter,\" Button said. He said Australia's concerns centred on coal and beef, Australia's two largest exports to Japan and also significant U. S. Exports to that country. Meanwhile U. S.- Japanese diplomatic manoeuvres to solve the trade stand - off continue. Japan's ruling Liberal Democratic Party yesterday outlined a package of economic measures to boost the Japanese economy. The measures proposed include a large supplementary budget and record public works spending in the first half of the financial year. They also call for stepped - up spending as an emergency measure to stimulate the economy despite Prime Minister Yasuhiro Nakasone's avowed fiscal reform program. Deputy U. S. Trade Representative Michael Smith and Makoto Kuroda, Japan's deputy minister of International Trade and Industry (MITI), are due to meet in Washington this week in an effort to end the dispute.</textarea>\n",
       "                </td>\n",
       "                <td>\n",
       "                    <textarea rows=\"20\" cols=\"80\" readonly>asian; exporters; fear; damage; from; u; s; japan; rift; mounting; trade; friction; between; the; u; s; and; japan; has; raised; fears; among; many; of; asia's; exporting; nations; that; the; row; could; inflict; far; reaching; economic; damage; businessmen; and; officials; said; they; told; reuter; correspondents; in; asian; capitals; a; u; s; move; against; japan; might; boost; protectionist; sentiment; in; the; u; s; and; lead; to; curbs; on; american; imports; of; their; products; but; some; exporters; said; that; while; the; conflict; would; hurt; them; in; the; long; run; in; the; short; term; tokyo's; loss; might; be; their; gain; the; u; s; has; said; it; will; impose; 300; mln; dlrs; of; tariffs; on; imports; of; japanese; electronics; goods; on; april; 17; in; retaliation; for; japan's; alleged; failure; to; stick; to; a; pact; not; to; sell; semiconductors; on; world; markets; at; below; cost; unofficial; japanese; estimates; put; the; impact; of; the; tariffs; at; 10; billion; dlrs; and; spokesmen; for; major; electronics; firms; said; they; would; virtually; halt; exports; of; products; hit; by; the; new; taxes; we; wouldn't; be; able; to; do; business; said; a; spokesman; for; leading; japanese; electronics; firm; matsushita; electric; industrial; co; ltd; lt; mc; t; if; the; tariffs; remain; in; place; for; any; length; of; time; beyond; a; few; months; it; will; mean; the; complete; erosion; of; exports; of; goods; subject; to; tariffs; to; the; u; s; said; tom; murtha; a; stock; analyst; at; the; tokyo; office; of; broker; lt; james; capel; and; co; in; taiwan; businessmen; and; officials; are; also; worried; we; are; aware; of; the; seriousness; of; the; u; s; threat; against; japan; because; it; serves; as; a; warning; to; us; said; a; senior; taiwanese; trade; official; who; asked; not; to; be; named; taiwan; had; a; trade; trade; surplus; of; 15; 6; billion; dlrs; last; year; 95; pct; of; it; with; the; u; s; the; surplus; helped; swell; taiwan's; foreign; exchange; reserves; to; 53; billion; dlrs; among; the; world's; largest; we; must; quickly; open; our; markets; remove; trade; barriers; and; cut; import; tariffs; to; allow; imports; of; u; s; products; if; we; want; to; defuse; problems; from; possible; u; s; retaliation; said; paul; sheen; chairman; of; textile; exporters; lt; taiwan; safe; group; a; senior; official; of; south; korea's; trade; promotion; association; said; the; trade; dispute; between; the; u; s; and; japan; might; also; lead; to; pressure; on; south; korea; whose; chief; exports; are; similar; to; those; of; japan; last; year; south; korea; had; a; trade; surplus; of; 7; 1; billion; dlrs; with; the; u; s; up; from; 4; 9; billion; dlrs; in; 1985; in; malaysia; trade; officers; and; businessmen; said; tough; curbs; against; japan; might; allow; hard; hit; producers; of; semiconductors; in; third; countries; to; expand; their; sales; to; the; u; s; in; hong; kong; where; newspapers; have; alleged; japan; has; been; selling; below; cost; semiconductors; some; electronics; manufacturers; share; that; view; but; other; businessmen; said; such; a; short; term; commercial; advantage; would; be; outweighed; by; further; u; s; pressure; to; block; imports; that; is; a; very; short; term; view; said; lawrence; mills; director; general; of; the; federation; of; hong; kong; industry; if; the; whole; purpose; is; to; prevent; imports; one; day; it; will; be; extended; to; other; sources; much; more; serious; for; hong; kong; is; the; disadvantage; of; action; restraining; trade; he; said; the; u; s; last; year; was; hong; kong's; biggest; export; market; accounting; for; over; 30; pct; of; domestically; produced; exports; the; australian; government; is; awaiting; the; outcome; of; trade; talks; between; the; u; s; and; japan; with; interest; and; concern; industry; minister; john; button; said; in; canberra; last; friday; this; kind; of; deterioration; in; trade; relations; between; two; countries; which; are; major; trading; partners; of; ours; is; a; very; serious; matter; button; said; he; said; australia's; concerns; centred; on; coal; and; beef; australia's; two; largest; exports; to; japan; and; also; significant; u; s; exports; to; that; country; meanwhile; u; s; japanese; diplomatic; manoeuvres; to; solve; the; trade; stand; off; continue; japan's; ruling; liberal; democratic; party; yesterday; outlined; a; package; of; economic; measures; to; boost; the; japanese; economy; the; measures; proposed; include; a; large; supplementary; budget; and; record; public; works; spending; in; the; first; half; of; the; financial; year; they; also; call; for; stepped; up; spending; as; an; emergency; measure; to; stimulate; the; economy; despite; prime; minister; yasuhiro; nakasone's; avowed; fiscal; reform; program; deputy; u; s; trade; representative; michael; smith; and; makoto; kuroda; japan's; deputy; minister; of; international; trade; and; industry; miti; are; due; to; meet; in; washington; this; week; in; an; effort; to; end; the; dispute</textarea>\n",
       "                </td>\n",
       "            </tr>\n",
       "        </table>"
      ],
      "text/plain": [
       "<IPython.core.display.HTML object>"
      ]
     },
     "metadata": {},
     "output_type": "display_data"
    }
   ],
   "source": [
    "if RUN_SCRIPT:\n",
    "    default_tokenizer = DefaultTokenizer(info)\n",
    "    default_tokenizer.tokenize(runvars['document']['text'])\n",
    "    show_comparison(default_tokenizer.text, default_tokenizer.tokens, 'Text', 'Tokens')"
   ]
  }
 ],
 "metadata": {
  "kernelspec": {
   "display_name": "Python 3",
   "language": "python",
   "name": "python3"
  },
  "language_info": {
   "codemirror_mode": {
    "name": "ipython",
    "version": 3
   },
   "file_extension": ".py",
   "mimetype": "text/x-python",
   "name": "python",
   "nbconvert_exporter": "python",
   "pygments_lexer": "ipython3",
   "version": "3.6.5"
  }
 },
 "nbformat": 4,
 "nbformat_minor": 2
}
