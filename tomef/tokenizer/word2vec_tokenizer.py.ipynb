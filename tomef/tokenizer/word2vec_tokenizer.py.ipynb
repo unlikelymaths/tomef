{
 "cells": [
  {
   "cell_type": "markdown",
   "metadata": {},
   "source": [
    "# Word2vecTokenizer\n",
    "<div style=\"position: absolute; right:0;top:0\"><a href=\"./tokenizer.ipynb\" style=\"text-decoration: none\"> <font size=\"5\">←</font></a>\n",
    "<a href=\"../evaluation.py.ipynb\" style=\"text-decoration: none\"> <font size=\"5\">↑</font></a></div>\n",
    "\n",
    "This module provides the `W2VTokenizer` class that transforms the `text` of a document into `tokens`.\n",
    "It keeps only those tokens that appear in the vocabulary of the corresponding embedding model,\n",
    "but tries to combine tokens into phrases if they appear in the model.\n",
    "\n",
    "---\n",
    "## Setup and Settings\n",
    "---"
   ]
  },
  {
   "cell_type": "code",
   "execution_count": 124,
   "metadata": {},
   "outputs": [
    {
     "data": {
      "application/vnd.jupyter.widget-view+json": {
       "model_id": "6a8b826fda414f9daa698b16ca53ce60",
       "version_major": 2,
       "version_minor": 0
      },
      "text/plain": [
       "VBox(children=(Dropdown(description='Dataset', index=7, layout=Layout(width='400px'), options=(('ACM', 'acm'),…"
      ]
     },
     "metadata": {},
     "output_type": "display_data"
    },
    {
     "data": {
      "text/html": [
       "<style>\n",
       "        .tdalignedlabel {width: 150px;\n",
       "            text-align: left !important; \n",
       "            vertical-align: top !important;\n",
       "            }\n",
       "        .tdalignedvalue {width: 250px;\n",
       "            text-align: left !important; \n",
       "            vertical-align: top !important;\n",
       "            }\n",
       "    </style>\n",
       "<table>\n",
       "<tr>\n",
       "    <td class=\"tdalignedlabel\">\n",
       "        <b>Data Name</b>\n",
       "    </td>\n",
       "    <td class=\"tdalignedvalue\">\n",
       "        Reuters (<font color=\"green\"><b>exists</b></font>)\n",
       "    </td>\n",
       "</tr>\n",
       "<tr>\n",
       "    <td class=\"tdalignedlabel\">\n",
       "        <b>Token</b>\n",
       "    </td>\n",
       "    <td class=\"tdalignedvalue\">\n",
       "        <font color=\"red\"><b>missing</b></font>\n",
       "    </td>\n",
       "</tr>\n",
       "<tr>\n",
       "    <td class=\"tdalignedlabel\">\n",
       "        Token Version\n",
       "    </td>\n",
       "    <td class=\"tdalignedvalue\">\n",
       "        Cw2v\n",
       "    </td>\n",
       "</tr>\n",
       "<tr>\n",
       "    <td class=\"tdalignedlabel\">\n",
       "        Class\n",
       "    </td>\n",
       "    <td class=\"tdalignedvalue\">\n",
       "        embedding_tokenizer.W2VTokenizer\n",
       "    </td>\n",
       "</tr>\n",
       "<tr>\n",
       "    <td class=\"tdalignedlabel\">\n",
       "        Settings\n",
       "    </td>\n",
       "    <td class=\"tdalignedvalue\">\n",
       "        \n",
       "    </td>\n",
       "</tr>\n",
       "<tr>\n",
       "    <td class=\"tdalignedlabel\">\n",
       "        <b>Document</b>\n",
       "    </td>\n",
       "    <td class=\"tdalignedvalue\">\n",
       "        \n",
       "    </td>\n",
       "</tr>\n",
       "<tr>\n",
       "    <td class=\"tdalignedlabel\">\n",
       "        Id\n",
       "    </td>\n",
       "    <td class=\"tdalignedvalue\">\n",
       "        15\n",
       "    </td>\n",
       "</tr>\n",
       "<tr>\n",
       "    <td class=\"tdalignedlabel\">\n",
       "        \n",
       "    </td>\n",
       "    <td class=\"tdalignedvalue\">\n",
       "        <textarea rows=\"16\" cols=\"100\" readonly>EC SUGAR TENDER HARD TO PREDICT - LONDON TRADE The outcome of today's European Community (EC) white sugar tender is extremely difficult to predict after last week's substantial award of 102,350 tonnes at the highest ever rebate of 46.864 European currency units (Ecus) per 100 kilos, traders said. Some said they believed the tonnage would probably be smaller, at around 60,000 tonnes, but declined to give a view on the likely restitution. Last week, the European Commission accepted 785,000 tonnes of sugar into intervention by operators protesting about low rebates. This might be a determining factor in today's result, they added.</textarea>\n",
       "    </td>\n",
       "</tr>\n",
       "</table>\n"
      ],
      "text/plain": [
       "<widgetbase.StyledHTML object>"
      ]
     },
     "metadata": {},
     "output_type": "display_data"
    },
    {
     "data": {
      "text/markdown": [],
      "text/plain": [
       "<IPython.core.display.Markdown object>"
      ]
     },
     "metadata": {},
     "output_type": "display_data"
    },
    {
     "data": {
      "application/vnd.jupyter.widget-view+json": {
       "model_id": "ebbacae3c96e4570908e6c5434275181",
       "version_major": 2,
       "version_minor": 0
      },
      "text/plain": [
       "FloatProgress(value=0.0, bar_style='info', layout=Layout(visibility='hidden'), max=1.0, style=ProgressStyle(de…"
      ]
     },
     "metadata": {},
     "output_type": "display_data"
    }
   ],
   "source": [
    "from __init__ import init_vars\n",
    "init_vars(vars(), ('info', {}), ('runvars', {}))\n",
    "\n",
    "import re\n",
    "    \n",
    "import data\n",
    "import config\n",
    "from base import nbprint\n",
    "from widgetbase import nbbox\n",
    "from util import ProgressIterator, add_method\n",
    "\n",
    "from embedding.main import get_model\n",
    "\n",
    "import tokenizer.common\n",
    "from tokenizer.token_util import TokenizerBase\n",
    "from tokenizer.default_tokenizer import DefaultTokenizer\n",
    "from tokenizer.widgets import token_picker, run_and_compare, show_comparison\n",
    "\n",
    "if RUN_SCRIPT: token_picker(info, runvars, 'C')"
   ]
  },
  {
   "cell_type": "markdown",
   "metadata": {},
   "source": [
    "---\n",
    "## Tokenize Document\n",
    "---\n",
    "The following functions consitute the `W2VTokenizer` class that transforms the raw text of a document into tokens."
   ]
  },
  {
   "cell_type": "code",
   "execution_count": 170,
   "metadata": {},
   "outputs": [
    {
     "data": {
      "text/markdown": [],
      "text/plain": [
       "<IPython.core.display.Markdown object>"
      ]
     },
     "metadata": {},
     "output_type": "display_data"
    },
    {
     "data": {
      "application/vnd.jupyter.widget-view+json": {
       "model_id": "9b7476e3e9d94a7892a98877df5727ee",
       "version_major": 2,
       "version_minor": 0
      },
      "text/plain": [
       "FloatProgress(value=0.0, bar_style='info', layout=Layout(visibility='hidden'), max=1.0, style=ProgressStyle(de…"
      ]
     },
     "metadata": {},
     "output_type": "display_data"
    }
   ],
   "source": [
    "class W2VTokenizer(TokenizerBase):\n",
    "    def __init__(self, *args, **kwargs):\n",
    "        super().__init__(*args,**kwargs)\n",
    "        self.embedding_model = get_model(self.info)\n",
    "        self.filter = self.embedding_model.filter.filter\n",
    "\n",
    "if RUN_SCRIPT:\n",
    "    nbbox()\n",
    "    w2v_tokenizer = W2VTokenizer(info)\n",
    "    w2v_tokenizer.text = runvars['document']['text']"
   ]
  },
  {
   "cell_type": "markdown",
   "metadata": {},
   "source": [
    "### Prepare Text\n",
    "\n",
    "This step lowercases all characters and replaces the following:\n",
    "- `separator_token` by `separator_token_replacement`\n",
    "- all whitespaces by a single whitespace\n",
    "- `#` by nothing"
   ]
  },
  {
   "cell_type": "code",
   "execution_count": 171,
   "metadata": {},
   "outputs": [
    {
     "data": {
      "text/html": [
       "<table>\n",
       "            <tr>\n",
       "                <td>Before</td>\n",
       "                <td>After</td>\n",
       "            </tr>\n",
       "            <tr>\n",
       "                <td>\n",
       "                    <textarea rows=\"20\" cols=\"80\" readonly>EC SUGAR TENDER HARD TO PREDICT - LONDON TRADE The outcome of today's European Community (EC) white sugar tender is extremely difficult to predict after last week's substantial award of 102,350 tonnes at the highest ever rebate of 46.864 European currency units (Ecus) per 100 kilos, traders said. Some said they believed the tonnage would probably be smaller, at around 60,000 tonnes, but declined to give a view on the likely restitution. Last week, the European Commission accepted 785,000 tonnes of sugar into intervention by operators protesting about low rebates. This might be a determining factor in today's result, they added.</textarea>\n",
       "                </td>\n",
       "                <td>\n",
       "                    <textarea rows=\"20\" cols=\"80\" readonly>ec sugar tender hard to predict - london trade the outcome of today's european community (ec) white sugar tender is extremely difficult to predict after last week's substantial award of 102,350 tonnes at the highest ever rebate of 46.864 european currency units (ecus) per 100 kilos, traders said. some said they believed the tonnage would probably be smaller, at around 60,000 tonnes, but declined to give a view on the likely restitution. last week, the european commission accepted 785,000 tonnes of sugar into intervention by operators protesting about low rebates. this might be a determining factor in today's result, they added.</textarea>\n",
       "                </td>\n",
       "            </tr>\n",
       "        </table>"
      ],
      "text/plain": [
       "<IPython.core.display.HTML object>"
      ]
     },
     "metadata": {},
     "output_type": "display_data"
    }
   ],
   "source": [
    "_re_whitespace = re.compile('[\\s]+', re.UNICODE)\n",
    "_re_url = re.compile('(http://[^\\s]+)|(https://[^\\s]+)|(www\\.[^\\s]+)')\n",
    "\n",
    "@add_method(W2VTokenizer)\n",
    "def prepare(self):\n",
    "    self.text = self.text.lower()\n",
    "    self.text = self.text.replace(tokenizer.common.separator_token,tokenizer.common.separator_token_replacement)\n",
    "    self.text = self.text.replace('#', '')\n",
    "    self.text, count = _re_url.subn(' ', self.text)\n",
    "    self.text, count = _re_whitespace.subn(' ', self.text)\n",
    "    \n",
    "if RUN_SCRIPT:\n",
    "    run_and_compare(w2v_tokenizer, w2v_tokenizer.prepare, 'text')"
   ]
  },
  {
   "cell_type": "markdown",
   "metadata": {},
   "source": [
    "### Replace numbers\n",
    "\n",
    "All numbers are replaced by `#`. This include all numbers in the Unicode 'Number, Decimal Digit' category."
   ]
  },
  {
   "cell_type": "code",
   "execution_count": 172,
   "metadata": {},
   "outputs": [
    {
     "data": {
      "text/html": [
       "<table>\n",
       "            <tr>\n",
       "                <td>Before</td>\n",
       "                <td>After</td>\n",
       "            </tr>\n",
       "            <tr>\n",
       "                <td>\n",
       "                    <textarea rows=\"20\" cols=\"80\" readonly>ec sugar tender hard to predict - london trade the outcome of today's european community (ec) white sugar tender is extremely difficult to predict after last week's substantial award of 102,350 tonnes at the highest ever rebate of 46.864 european currency units (ecus) per 100 kilos, traders said. some said they believed the tonnage would probably be smaller, at around 60,000 tonnes, but declined to give a view on the likely restitution. last week, the european commission accepted 785,000 tonnes of sugar into intervention by operators protesting about low rebates. this might be a determining factor in today's result, they added.</textarea>\n",
       "                </td>\n",
       "                <td>\n",
       "                    <textarea rows=\"20\" cols=\"80\" readonly>ec sugar tender hard to predict - london trade the outcome of today's european community (ec) white sugar tender is extremely difficult to predict after last week's substantial award of ###,### tonnes at the highest ever rebate of ##.### european currency units (ecus) per ### kilos, traders said. some said they believed the tonnage would probably be smaller, at around ##,### tonnes, but declined to give a view on the likely restitution. last week, the european commission accepted ###,### tonnes of sugar into intervention by operators protesting about low rebates. this might be a determining factor in today's result, they added.</textarea>\n",
       "                </td>\n",
       "            </tr>\n",
       "        </table>"
      ],
      "text/plain": [
       "<IPython.core.display.HTML object>"
      ]
     },
     "metadata": {},
     "output_type": "display_data"
    }
   ],
   "source": [
    "_re_decimal = re.compile('\\d', re.UNICODE)\n",
    "\n",
    "@add_method(W2VTokenizer)\n",
    "def replace_numbers(self):\n",
    "    self.text, count = _re_decimal.subn('#', self.text)\n",
    "    \n",
    "if RUN_SCRIPT:\n",
    "    run_and_compare(w2v_tokenizer, w2v_tokenizer.replace_numbers, 'text')"
   ]
  },
  {
   "cell_type": "markdown",
   "metadata": {},
   "source": [
    "### Split at breaking characters\n",
    "\n",
    "This step splits the string into substrings $s_i$ at all sequences of non alphanumeric characters (`\\w`), whitespace (`\\s`), or apostrophes (`\\'`). Later, the algorithm will only try to combine tokens from each $s_i$ separately into phrases, but not tokens from different substrings."
   ]
  },
  {
   "cell_type": "code",
   "execution_count": 173,
   "metadata": {},
   "outputs": [
    {
     "data": {
      "text/html": [
       "<table>\n",
       "            <tr>\n",
       "                <td>Before</td>\n",
       "                <td>After</td>\n",
       "            </tr>\n",
       "            <tr>\n",
       "                <td>\n",
       "                    <textarea rows=\"20\" cols=\"80\" readonly>ec sugar tender hard to predict - london trade the outcome of today's european community (ec) white sugar tender is extremely difficult to predict after last week's substantial award of ###,### tonnes at the highest ever rebate of ##.### european currency units (ecus) per ### kilos, traders said. some said they believed the tonnage would probably be smaller, at around ##,### tonnes, but declined to give a view on the likely restitution. last week, the european commission accepted ###,### tonnes of sugar into intervention by operators protesting about low rebates. this might be a determining factor in today's result, they added.</textarea>\n",
       "                </td>\n",
       "                <td>\n",
       "                    <textarea rows=\"20\" cols=\"80\" readonly>ec sugar tender hard to predict ;  london trade the outcome of today's european community ; ec;  white sugar tender is extremely difficult to predict after last week's substantial award of ###; ### tonnes at the highest ever rebate of ##; ### european currency units ; ecus;  per ### kilos;  traders said;  some said they believed the tonnage would probably be smaller;  at around ##; ### tonnes;  but declined to give a view on the likely restitution;  last week;  the european commission accepted ###; ### tonnes of sugar into intervention by operators protesting about low rebates;  this might be a determining factor in today's result;  they added; </textarea>\n",
       "                </td>\n",
       "            </tr>\n",
       "        </table>"
      ],
      "text/plain": [
       "<IPython.core.display.HTML object>"
      ]
     },
     "metadata": {},
     "output_type": "display_data"
    }
   ],
   "source": [
    "_re_breaking = re.compile('[^\\w\\s\\'\\’#]+', re.UNICODE)\n",
    "\n",
    "@add_method(W2VTokenizer)\n",
    "def split_text(self):\n",
    "    self.subtexts = _re_breaking.split(self.text)\n",
    "    \n",
    "if RUN_SCRIPT:\n",
    "    run_and_compare(w2v_tokenizer, w2v_tokenizer.split_text, 'text', 'subtexts')"
   ]
  },
  {
   "cell_type": "markdown",
   "metadata": {},
   "source": [
    "### Split at nonbreaking characters"
   ]
  },
  {
   "cell_type": "code",
   "execution_count": 174,
   "metadata": {},
   "outputs": [
    {
     "data": {
      "text/html": [
       "<table>\n",
       "            <tr>\n",
       "                <td>Before</td>\n",
       "                <td>After</td>\n",
       "            </tr>\n",
       "            <tr>\n",
       "                <td>\n",
       "                    <textarea rows=\"20\" cols=\"80\" readonly>ec sugar tender hard to predict ;  london trade the outcome of today's european community ; ec;  white sugar tender is extremely difficult to predict after last week's substantial award of ###; ### tonnes at the highest ever rebate of ##; ### european currency units ; ecus;  per ### kilos;  traders said;  some said they believed the tonnage would probably be smaller;  at around ##; ### tonnes;  but declined to give a view on the likely restitution;  last week;  the european commission accepted ###; ### tonnes of sugar into intervention by operators protesting about low rebates;  this might be a determining factor in today's result;  they added; </textarea>\n",
       "                </td>\n",
       "                <td>\n",
       "                    <textarea rows=\"20\" cols=\"80\" readonly>['ec', 'sugar', 'tender', 'hard', 'to', 'predict']; ['london', 'trade', 'the', 'outcome', 'of', \"today's\", 'european', 'community']; ['ec']; ['white', 'sugar', 'tender', 'is', 'extremely', 'difficult', 'to', 'predict', 'after', 'last', \"week's\", 'substantial', 'award', 'of', '###']; ['###', 'tonnes', 'at', 'the', 'highest', 'ever', 'rebate', 'of', '##']; ['###', 'european', 'currency', 'units']; ['ecus']; ['per', '###', 'kilos']; ['traders', 'said']; ['some', 'said', 'they', 'believed', 'the', 'tonnage', 'would', 'probably', 'be', 'smaller']; ['at', 'around', '##']; ['###', 'tonnes']; ['but', 'declined', 'to', 'give', 'a', 'view', 'on', 'the', 'likely', 'restitution']; ['last', 'week']; ['the', 'european', 'commission', 'accepted', '###']; ['###', 'tonnes', 'of', 'sugar', 'into', 'intervention', 'by', 'operators', 'protesting', 'about', 'low', 'rebates']; ['this', 'might', 'be', 'a', 'determining', 'factor', 'in', \"today's\", 'result']; ['they', 'added']</textarea>\n",
       "                </td>\n",
       "            </tr>\n",
       "        </table>"
      ],
      "text/plain": [
       "<IPython.core.display.HTML object>"
      ]
     },
     "metadata": {},
     "output_type": "display_data"
    }
   ],
   "source": [
    "@add_method(W2VTokenizer)\n",
    "def split_subtexts(self):\n",
    "    self.tokenlists = [subtext.split()\n",
    "                      for subtext in self.subtexts\n",
    "                      if len(subtext) > 0]\n",
    "    \n",
    "if RUN_SCRIPT:\n",
    "    run_and_compare(w2v_tokenizer, w2v_tokenizer.split_subtexts, 'subtexts', 'tokenlists')"
   ]
  },
  {
   "cell_type": "markdown",
   "metadata": {},
   "source": [
    "### Filter"
   ]
  },
  {
   "cell_type": "code",
   "execution_count": 175,
   "metadata": {},
   "outputs": [
    {
     "data": {
      "text/html": [
       "<table>\n",
       "            <tr>\n",
       "                <td>Before</td>\n",
       "                <td>After</td>\n",
       "            </tr>\n",
       "            <tr>\n",
       "                <td>\n",
       "                    <textarea rows=\"20\" cols=\"80\" readonly>['ec', 'sugar', 'tender', 'hard', 'to', 'predict']; ['london', 'trade', 'the', 'outcome', 'of', \"today's\", 'european', 'community']; ['ec']; ['white', 'sugar', 'tender', 'is', 'extremely', 'difficult', 'to', 'predict', 'after', 'last', \"week's\", 'substantial', 'award', 'of', '###']; ['###', 'tonnes', 'at', 'the', 'highest', 'ever', 'rebate', 'of', '##']; ['###', 'european', 'currency', 'units']; ['ecus']; ['per', '###', 'kilos']; ['traders', 'said']; ['some', 'said', 'they', 'believed', 'the', 'tonnage', 'would', 'probably', 'be', 'smaller']; ['at', 'around', '##']; ['###', 'tonnes']; ['but', 'declined', 'to', 'give', 'a', 'view', 'on', 'the', 'likely', 'restitution']; ['last', 'week']; ['the', 'european', 'commission', 'accepted', '###']; ['###', 'tonnes', 'of', 'sugar', 'into', 'intervention', 'by', 'operators', 'protesting', 'about', 'low', 'rebates']; ['this', 'might', 'be', 'a', 'determining', 'factor', 'in', \"today's\", 'result']; ['they', 'added']</textarea>\n",
       "                </td>\n",
       "                <td>\n",
       "                    <textarea rows=\"20\" cols=\"80\" readonly>ec; sugar; tender; HARD_TO; predict; london; trade; THE_OUTCOME_OF; today's; european; community; ec; white; sugar; tender; is; Extremely_Difficult; TO_PREDICT; after; last; week's; substantial; award; oF; ###; ###; tonnes; at; THE_HIGHEST; ever; rebate; oF; ##; ###; european; currency; units; ECUs; per; ###; kilos; traders; said; some; SAID_THEY; believed; the; tonnage; would; probably; be; smaller; at; around; ##; ###; tonnes; but; DECLINED_TO; give; a_; view; ON_THE; likely; restitution; LAST_WEEK; THE_EUROPEAN_COMMISSION; accepted; ###; ###; TONNES_OF; sugar; into; intervention; by; operators; protesting; about; low; rebates; this; Might_Be; a_; determining; FACTOR_IN; today's; result; they; added</textarea>\n",
       "                </td>\n",
       "            </tr>\n",
       "        </table>"
      ],
      "text/plain": [
       "<IPython.core.display.HTML object>"
      ]
     },
     "metadata": {},
     "output_type": "display_data"
    }
   ],
   "source": [
    "@add_method(W2VTokenizer)\n",
    "def build_tokens(self):\n",
    "    self.tokens = []\n",
    "    for tokenlist in self.tokenlists:\n",
    "        self.tokens = self.tokens + self.filter(tokenlist)\n",
    "    \n",
    "if RUN_SCRIPT:\n",
    "    run_and_compare(w2v_tokenizer, w2v_tokenizer.build_tokens, 'tokenlists', 'tokens')"
   ]
  },
  {
   "cell_type": "markdown",
   "metadata": {},
   "source": [
    "---\n",
    "## Complete function\n",
    "---"
   ]
  },
  {
   "cell_type": "code",
   "execution_count": 177,
   "metadata": {},
   "outputs": [],
   "source": [
    "@add_method(W2VTokenizer)\n",
    "def tokenize(self, text, *args):\n",
    "    self.text = text\n",
    "    self.prepare()\n",
    "    self.replace_numbers()\n",
    "    self.split_text()\n",
    "    self.split_subtexts()\n",
    "    self.build_tokens()\n",
    "    return self.tokens"
   ]
  },
  {
   "cell_type": "markdown",
   "metadata": {},
   "source": [
    "## Test tokenizer"
   ]
  },
  {
   "cell_type": "code",
   "execution_count": 178,
   "metadata": {},
   "outputs": [
    {
     "data": {
      "text/html": [
       "<table>\n",
       "            <tr>\n",
       "                <td>Text</td>\n",
       "                <td>Tokens</td>\n",
       "            </tr>\n",
       "            <tr>\n",
       "                <td>\n",
       "                    <textarea rows=\"20\" cols=\"80\" readonly>EC SUGAR TENDER HARD TO PREDICT - LONDON TRADE The outcome of today's European Community (EC) white sugar tender is extremely difficult to predict after last week's substantial award of 102,350 tonnes at the highest ever rebate of 46.864 European currency units (Ecus) per 100 kilos, traders said. Some said they believed the tonnage would probably be smaller, at around 60,000 tonnes, but declined to give a view on the likely restitution. Last week, the European Commission accepted 785,000 tonnes of sugar into intervention by operators protesting about low rebates. This might be a determining factor in today's result, they added.</textarea>\n",
       "                </td>\n",
       "                <td>\n",
       "                    <textarea rows=\"20\" cols=\"80\" readonly>ec; sugar; tender; HARD_TO; predict; london; trade; THE_OUTCOME_OF; today's; european; community; ec; white; sugar; tender; is; Extremely_Difficult; TO_PREDICT; after; last; week's; substantial; award; oF; ###; ###; tonnes; at; THE_HIGHEST; ever; rebate; oF; ##; ###; european; currency; units; ECUs; per; ###; kilos; traders; said; some; SAID_THEY; believed; the; tonnage; would; probably; be; smaller; at; around; ##; ###; tonnes; but; DECLINED_TO; give; a_; view; ON_THE; likely; restitution; LAST_WEEK; THE_EUROPEAN_COMMISSION; accepted; ###; ###; TONNES_OF; sugar; into; intervention; by; operators; protesting; about; low; rebates; this; Might_Be; a_; determining; FACTOR_IN; today's; result; they; added</textarea>\n",
       "                </td>\n",
       "            </tr>\n",
       "        </table>"
      ],
      "text/plain": [
       "<IPython.core.display.HTML object>"
      ]
     },
     "metadata": {},
     "output_type": "display_data"
    }
   ],
   "source": [
    "if RUN_SCRIPT:\n",
    "    w2v_tokenizer.tokenize(runvars['document']['text'])\n",
    "    show_comparison(runvars['document']['text'], w2v_tokenizer.tokens, 'Text', 'Tokens')"
   ]
  }
 ],
 "metadata": {
  "kernelspec": {
   "display_name": "Python 3",
   "language": "python",
   "name": "python3"
  },
  "language_info": {
   "codemirror_mode": {
    "name": "ipython",
    "version": 3
   },
   "file_extension": ".py",
   "mimetype": "text/x-python",
   "name": "python",
   "nbconvert_exporter": "python",
   "pygments_lexer": "ipython3",
   "version": "3.6.5"
  }
 },
 "nbformat": 4,
 "nbformat_minor": 2
}
