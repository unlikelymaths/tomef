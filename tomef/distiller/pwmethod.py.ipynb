{
 "cells": [
  {
   "cell_type": "markdown",
   "metadata": {},
   "source": [
    "# Pseudo W Method\n",
    "<div style=\"position: absolute; right:0;top:0\"><a href=\"./distiller.ipynb\" style=\"text-decoration: none\"> <font size=\"5\">←</font></a>\n",
    "<a href=\"../evaluation.py.ipynb\" style=\"text-decoration: none\"> <font size=\"5\">↑</font></a></div>\n",
    "\n",
    "`Description`\n",
    "\n",
    "---\n",
    "## Setup\n",
    "---"
   ]
  },
  {
   "cell_type": "code",
   "execution_count": null,
   "metadata": {},
   "outputs": [],
   "source": [
    "from __init__ import init_vars\n",
    "init_vars(vars(), ('info',{}))\n",
    "\n",
    "import numpy as np\n",
    "from sklearn.feature_selection import mutual_info_classif\n",
    "\n",
    "import data\n",
    "import config\n",
    "from base import nbprint\n",
    "from widgetbase import nbbox\n",
    "\n",
    "from distiller.widgets import h_mat_and_bow_picker\n",
    "from distiller.common import TopicEntry\n",
    "from distiller.distiller_util import DistillerBase\n",
    "\n",
    "if RUN_SCRIPT: h_mat_and_bow_picker(info)"
   ]
  },
  {
   "cell_type": "markdown",
   "metadata": {},
   "source": [
    "---\n",
    "## Show all\n",
    "---"
   ]
  },
  {
   "cell_type": "code",
   "execution_count": null,
   "metadata": {},
   "outputs": [],
   "source": [
    "def load_h_mat(info):\n",
    "    return data.load_h_mat(info)\n",
    "    \n",
    "def load_mat_ids(info):\n",
    "    if config.split(info['vector_version'])[0] == 'P':\n",
    "        meta = data.load_document_meta(info)\n",
    "        return range(meta['num_documents'])\n",
    "    else:\n",
    "        return data.load_mat_ids(info)"
   ]
  },
  {
   "cell_type": "code",
   "execution_count": null,
   "metadata": {},
   "outputs": [],
   "source": [
    "class WMethod(DistillerBase):\n",
    "    def run(self, info):\n",
    "        h_mat = load_h_mat(info)\n",
    "        if h_mat is None:\n",
    "            return\n",
    "        second_info = info['second_info'] \n",
    "        num_tokens = config.distiller['num_tokens']\n",
    "        num_topics = info['num_topics']\n",
    "        vocab = data.load_vocab_list(second_info)\n",
    "        input_mat = data.load_input_mat(second_info)\n",
    "        h_mat_ids = load_mat_ids(info)\n",
    "        input_mat_ids = data.load_mat_ids(second_info)\n",
    "        \n",
    "        #common_ids = [i for i in h_mat_ids if i in input_mat_ids]\n",
    "        common_ids = {}\n",
    "        input_mat_ids2 = input_mat_ids.copy()\n",
    "        for i in h_mat_ids:\n",
    "            try:\n",
    "                while input_mat_ids2[0] < i:\n",
    "                    input_mat_ids2 = input_mat_ids2[1:]\n",
    "                if input_mat_ids2[0] == i:\n",
    "                    input_mat_ids2 = input_mat_ids2[1:]\n",
    "                    common_ids[i] = True\n",
    "            except IndexError:\n",
    "                break\n",
    "        filter_h_mat = [idx for idx, docid in enumerate(h_mat_ids) if docid in common_ids]\n",
    "        h_mat = h_mat[:,filter_h_mat]\n",
    "        filter_input_mat = [idx for idx, docid in enumerate(input_mat_ids) if docid in common_ids]\n",
    "        input_mat = input_mat[:, filter_input_mat]\n",
    "                \n",
    "        eps = 1e-16\n",
    "        threshold = 1e-16\n",
    "        Ht = (h_mat / np.maximum(np.sum(h_mat,0),1e-16)).T\n",
    "        W = input_mat @ Ht\n",
    "        W = W / np.maximum(np.sum(W,0),eps)\n",
    "        for iteration in range(100):\n",
    "            HHT = np.dot(Ht.T,Ht)\n",
    "            W_old = np.copy(W)\n",
    "            for r in range(num_topics):\n",
    "                hr = Ht[:,r]\n",
    "                idx = [i for i in range(num_topics) if i!=r]\n",
    "                wr = 1/HHT[r,r] * (input_mat @ hr - W[:,idx] @ HHT[idx,r])\n",
    "                W[:,r] = np.maximum(wr, eps).T\n",
    "            mean_w_change = np.mean(np.abs((W - W_old) / W_old))\n",
    "            if mean_w_change < threshold:\n",
    "                nbprint('Converged after {} iterations. (threshold = {})'.format(iteration+1,threshold))\n",
    "                break\n",
    "        for r in range(num_topics):\n",
    "            W[:,r] /= np.sqrt(np.sum(np.square(W[:,r])))\n",
    "        mean_topic = np.mean(W, axis=1)\n",
    "        mean_topic /= np.sqrt(np.sum(np.square(mean_topic)))\n",
    "        for r in range(num_topics):\n",
    "            W[:,r] = W[:,r] - np.sum(W[:,r]*mean_topic) * mean_topic\n",
    "        \n",
    "        num_tokens = config.distiller['num_tokens']\n",
    "        sorted_idcs = np.argsort(W, axis=0)\n",
    "        topiclist = []\n",
    "        for col in range(W.shape[1]):\n",
    "            topic = []\n",
    "            for idx in sorted_idcs[-num_tokens:,col][::-1]:\n",
    "                topic.append(TopicEntry(idx = int(idx), \n",
    "                                        weight = W[idx, col], \n",
    "                                        token = vocab[idx]))\n",
    "            topiclist.append(topic)\n",
    "        self.topic_token_version = second_info['token_version']\n",
    "        self.topiclist = topiclist"
   ]
  },
  {
   "cell_type": "code",
   "execution_count": null,
   "metadata": {},
   "outputs": [],
   "source": [
    "if RUN_SCRIPT:\n",
    "    nbbox(mini=True)\n",
    "    info['num_topics'] = int(info['num_topics'])\n",
    "    distiller_model = WMethod(info)\n",
    "    distiller_model.run_distiller(info)\n",
    "    for topic_idx, topic in enumerate(distiller_model.topiclist):\n",
    "        nbprint('**Topic {}**'.format(topic_idx))\n",
    "        nbprint('  \\n'.join([\"- `{}` ({})\".format(entry.token,entry.weight) for entry in topic[:10]]))"
   ]
  },
  {
   "cell_type": "code",
   "execution_count": null,
   "metadata": {},
   "outputs": [],
   "source": []
  }
 ],
 "metadata": {
  "kernelspec": {
   "display_name": "Python 3",
   "language": "python",
   "name": "python3"
  },
  "language_info": {
   "codemirror_mode": {
    "name": "ipython",
    "version": 3
   },
   "file_extension": ".py",
   "mimetype": "text/x-python",
   "name": "python",
   "nbconvert_exporter": "python",
   "pygments_lexer": "ipython3",
   "version": "3.6.5"
  }
 },
 "nbformat": 4,
 "nbformat_minor": 2
}
