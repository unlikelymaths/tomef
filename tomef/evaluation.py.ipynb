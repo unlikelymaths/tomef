{
 "cells": [
  {
   "cell_type": "markdown",
   "metadata": {
    "tags": [
     "interactive"
    ]
   },
   "source": [
    "# Evaluation\n",
    "\n",
    "This is the main evaluation script.\n",
    "See [Introduction](./docs/intro.ipynb) for an overview.\n",
    "\n",
    "## [Initialize](docs/details.ipynb#Initialize), [Tools](tools/tools.py.ipynb) and [Configuration](./docs/config.ipynb)\n",
    "\n",
    "Execute this cell first. Runs Tools (command line use) and loads [config.json](./config.json).\n",
    "Run again if you have changed the configuration."
   ]
  },
  {
   "cell_type": "code",
   "execution_count": null,
   "metadata": {},
   "outputs": [],
   "source": [
    "try:\n",
    "    %reload_ext autoreload\n",
    "    %autoreload 2\n",
    "except NameError: \n",
    "    pass\n",
    "\n",
    "from tools.tools import run_tools\n",
    "run_tools()\n",
    "\n",
    "from base import config\n",
    "from interface import nbbox\n",
    "config.load_config()"
   ]
  },
  {
   "cell_type": "markdown",
   "metadata": {},
   "source": [
    "## [Importer](./importer/importer.ipynb)\n",
    "Imports datasets into standard format."
   ]
  },
  {
   "cell_type": "code",
   "execution_count": null,
   "metadata": {},
   "outputs": [],
   "source": [
    "if config.importer[\"run\"]:\n",
    "    with nbbox():\n",
    "        from importer.main import run_importer \n",
    "        run_importer()"
   ]
  },
  {
   "cell_type": "markdown",
   "metadata": {},
   "source": [
    "## [Tokenizer](./tokenizer/tokenizer.ipynb)\n",
    "\n",
    "Extracts tokens from raw text. Uses [Embeddings](./embedding/embedding.ipynb)."
   ]
  },
  {
   "cell_type": "code",
   "execution_count": null,
   "metadata": {},
   "outputs": [],
   "source": [
    "if config.tokenizer[\"run\"]:\n",
    "    with nbbox():\n",
    "        from tokenizer.main import run_tokenizer\n",
    "        run_tokenizer()"
   ]
  },
  {
   "cell_type": "markdown",
   "metadata": {},
   "source": [
    "## [Vocab](./vocab/vocab.ipynb)\n",
    "Forms vocabulary from tokens."
   ]
  },
  {
   "cell_type": "code",
   "execution_count": null,
   "metadata": {},
   "outputs": [],
   "source": [
    "if config.vocab[\"run\"]:\n",
    "    with nbbox():\n",
    "        from vocab.main import run_vocab\n",
    "        run_vocab()"
   ]
  },
  {
   "cell_type": "markdown",
   "metadata": {},
   "source": [
    "## [Vectorizer](./vectorizer/vectorizer.ipynb)\n",
    "Creates a vector representation of each document. Uses [Embeddings](./embedding/embedding.ipynb)."
   ]
  },
  {
   "cell_type": "code",
   "execution_count": null,
   "metadata": {},
   "outputs": [],
   "source": [
    "if config.vectorizer[\"run\"]:\n",
    "    with nbbox():\n",
    "        from vectorizer.main import run_vectorizer\n",
    "        run_vectorizer()"
   ]
  },
  {
   "cell_type": "markdown",
   "metadata": {},
   "source": [
    "## [Models](./models/models.ipynb)\n",
    "Creates (soft) clustering the corpus."
   ]
  },
  {
   "cell_type": "code",
   "execution_count": null,
   "metadata": {},
   "outputs": [],
   "source": [
    "if config.models[\"run\"]:\n",
    "    with nbbox():\n",
    "        from models.main import run_models\n",
    "        run_models()"
   ]
  },
  {
   "cell_type": "markdown",
   "metadata": {},
   "source": [
    "## [Model Metrics](./metrics/metrics.ipynb)\n",
    "Evaluates the results form the Models module."
   ]
  },
  {
   "cell_type": "code",
   "execution_count": null,
   "metadata": {},
   "outputs": [],
   "source": [
    "if config.metrics[\"run\"]:\n",
    "    with nbbox():\n",
    "        from metrics.main import run_model_metrics\n",
    "        run_model_metrics()"
   ]
  },
  {
   "cell_type": "markdown",
   "metadata": {},
   "source": [
    "## [Distiller](./distiller/distiller.ipynb)\n",
    "Extracts topics from the previous data."
   ]
  },
  {
   "cell_type": "code",
   "execution_count": null,
   "metadata": {},
   "outputs": [],
   "source": [
    "if config.distiller[\"run\"]:\n",
    "    with nbbox():\n",
    "        from distiller.main import run_distiller\n",
    "        run_distiller()"
   ]
  },
  {
   "cell_type": "markdown",
   "metadata": {},
   "source": [
    "## [Topic Metrics](./metrics/metrics.ipynb)\n",
    "Evaluates the topics."
   ]
  },
  {
   "cell_type": "code",
   "execution_count": null,
   "metadata": {},
   "outputs": [],
   "source": [
    "if config.metrics[\"run\"]:\n",
    "    with nbbox():\n",
    "        from metrics.main import run_topic_metrics\n",
    "        run_topic_metrics()"
   ]
  }
 ],
 "metadata": {
  "kernelspec": {
   "display_name": "Python 3",
   "language": "python",
   "name": "python3"
  },
  "language_info": {
   "codemirror_mode": {
    "name": "ipython",
    "version": 3
   },
   "file_extension": ".py",
   "mimetype": "text/x-python",
   "name": "python",
   "nbconvert_exporter": "python",
   "pygments_lexer": "ipython3",
   "version": "3.6.5"
  }
 },
 "nbformat": 4,
 "nbformat_minor": 2
}
