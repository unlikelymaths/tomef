{
 "cells": [
  {
   "cell_type": "markdown",
   "metadata": {},
   "source": [
    "# Vectorizer App\n",
    "<div style=\"position: absolute; right:0;top:0\"><a href=\"./vectorizer.ipynb\" style=\"text-decoration: none\"> <font size=\"5\">←</font></a>\n",
    "<a href=\"../evaluation.py.ipynb\" style=\"text-decoration: none\"> <font size=\"5\">↑</font></a></div>\n",
    "\n",
    "Chose settings and run vectorizer"
   ]
  },
  {
   "cell_type": "code",
   "execution_count": 1,
   "metadata": {},
   "outputs": [
    {
     "data": {
      "application/vnd.jupyter.widget-view+json": {
       "model_id": "ecd8a3193792442494999981bf3b6a75",
       "version_major": 2,
       "version_minor": 0
      },
      "text/plain": [
       "VBox(children=(Dropdown(description='Dataset', layout=Layout(width='400px'), options=(('ACM', 'acm'), ('ATD', …"
      ]
     },
     "metadata": {},
     "output_type": "display_data"
    },
    {
     "data": {
      "text/html": [
       "<style>\n",
       "        .tdalignedlabel {width: 150px;\n",
       "            text-align: left !important; \n",
       "            vertical-align: top !important;\n",
       "            }\n",
       "        .tdalignedvalue {width: 250px;\n",
       "            text-align: left !important; \n",
       "            vertical-align: top !important;\n",
       "            }\n",
       "    </style>\n",
       "<table>\n",
       "<tr>\n",
       "    <td class=\"tdalignedlabel\">\n",
       "        <b>Data Name</b>\n",
       "    </td>\n",
       "    <td class=\"tdalignedvalue\">\n",
       "        ACM (<font color=\"green\"><b>exists</b></font>)\n",
       "    </td>\n",
       "</tr>\n",
       "<tr>\n",
       "    <td class=\"tdalignedlabel\">\n",
       "        <b>Token</b>\n",
       "    </td>\n",
       "    <td class=\"tdalignedvalue\">\n",
       "        <font color=\"green\"><b>exists</b></font>\n",
       "    </td>\n",
       "</tr>\n",
       "<tr>\n",
       "    <td class=\"tdalignedlabel\">\n",
       "        Token Version\n",
       "    </td>\n",
       "    <td class=\"tdalignedvalue\">\n",
       "        B0\n",
       "    </td>\n",
       "</tr>\n",
       "<tr>\n",
       "    <td class=\"tdalignedlabel\">\n",
       "        Class\n",
       "    </td>\n",
       "    <td class=\"tdalignedvalue\">\n",
       "        default_tokenizer.DefaultTokenizer\n",
       "    </td>\n",
       "</tr>\n",
       "<tr>\n",
       "    <td class=\"tdalignedlabel\">\n",
       "        Settings\n",
       "    </td>\n",
       "    <td class=\"tdalignedvalue\">\n",
       "        <b>numbers</b>: keep, <b>numbers_split</b>: True, <b>urls</b>: skip, <b>ascii_emotes</b>: skip, <b>unicode_emotes</b>: skip, <b>lowercase</b>: True, <b>alnum_only</b>: True, <b>ascii_only</b>: False\n",
       "    </td>\n",
       "</tr>\n",
       "<tr>\n",
       "    <td class=\"tdalignedlabel\">\n",
       "        <b>Vocab Version</b>\n",
       "    </td>\n",
       "    <td class=\"tdalignedvalue\">\n",
       "        B0 (<font color=\"green\"><b>exists</b></font>)\n",
       "    </td>\n",
       "</tr>\n",
       "<tr>\n",
       "    <td class=\"tdalignedlabel\">\n",
       "        <b>Vector</b>\n",
       "    </td>\n",
       "    <td class=\"tdalignedvalue\">\n",
       "        <font color=\"red\"><b>missing</b></font>\n",
       "    </td>\n",
       "</tr>\n",
       "<tr>\n",
       "    <td class=\"tdalignedlabel\">\n",
       "        Version\n",
       "    </td>\n",
       "    <td class=\"tdalignedvalue\">\n",
       "        Pbert\n",
       "    </td>\n",
       "</tr>\n",
       "<tr>\n",
       "    <td class=\"tdalignedlabel\">\n",
       "        Name\n",
       "    </td>\n",
       "    <td class=\"tdalignedvalue\">\n",
       "        Bert base\n",
       "    </td>\n",
       "</tr>\n",
       "<tr>\n",
       "    <td class=\"tdalignedlabel\">\n",
       "        Model\n",
       "    </td>\n",
       "    <td class=\"tdalignedvalue\">\n",
       "        None\n",
       "    </td>\n",
       "</tr>\n",
       "</table>\n"
      ],
      "text/plain": [
       "<widgetbase.StyledHTML object>"
      ]
     },
     "metadata": {},
     "output_type": "display_data"
    },
    {
     "data": {
      "text/markdown": [],
      "text/plain": [
       "<IPython.core.display.Markdown object>"
      ]
     },
     "metadata": {},
     "output_type": "display_data"
    },
    {
     "data": {
      "application/vnd.jupyter.widget-view+json": {
       "model_id": "526b9848a84b47138706da74ea039e56",
       "version_major": 2,
       "version_minor": 0
      },
      "text/plain": [
       "FloatProgress(value=0.0, bar_style='info', layout=Layout(visibility='hidden'), max=1.0, style=ProgressStyle(de…"
      ]
     },
     "metadata": {},
     "output_type": "display_data"
    }
   ],
   "source": [
    "from __init__ import init_vars\n",
    "init_vars(vars())\n",
    "\n",
    "from vectorizer.widgets import vector_app\n",
    "vector_app()"
   ]
  }
 ],
 "metadata": {
  "kernelspec": {
   "display_name": "Python 3",
   "language": "python",
   "name": "python3"
  },
  "language_info": {
   "codemirror_mode": {
    "name": "ipython",
    "version": 3
   },
   "file_extension": ".py",
   "mimetype": "text/x-python",
   "name": "python",
   "nbconvert_exporter": "python",
   "pygments_lexer": "ipython3",
   "version": "3.6.5"
  }
 },
 "nbformat": 4,
 "nbformat_minor": 2
}
